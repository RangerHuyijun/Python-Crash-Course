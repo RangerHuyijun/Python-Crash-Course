{
 "cells": [
  {
   "cell_type": "markdown",
   "metadata": {},
   "source": [
    "# 附录 B 文本编辑器"
   ]
  },
  {
   "cell_type": "markdown",
   "metadata": {},
   "source": [
    "#### 程序员花大量时间来编写、 阅读和编辑代码， 因此使用的文本编辑器必须能够尽可能提高完成这种工作的效率。 高效的编辑器应突出代码的结构， 让你在编写代码时就能够发现常见的bug。 它还应包含自动缩进功能、 显示代码长度的标志以及用于执行常见操作的快捷键。"
   ]
  },
  {
   "cell_type": "markdown",
   "metadata": {},
   "source": [
    "#### 如果你是编程新手， 应使用具备上述功能但学习起来又不难的编辑器。 另外， 你最好对更高级的编辑器有所了解， 这样就知道何时该考虑升级编辑器了。"
   ]
  },
  {
   "cell_type": "markdown",
   "metadata": {},
   "source": [
    "#### 对于每种主要的操作系统， 我们都将介绍一款符合上述条件的编辑器： 使用Linux或Windows系统的初学者可使用Geany； 使用OS X的初学者可使用Sublime Text（它在Linux和Windows系统中的效果也很好） 。 我们还将介绍Python自带的编辑器IDLE。 最后， 我们将介绍Emacs和vim， 这是两款高级编辑器， 随着你不断地学习编程， 经常会听到有人提起它们。 我们将把hello_world.py作为示例程序， 在上述每款编辑器中运行它。"
   ]
  },
  {
   "cell_type": "markdown",
   "metadata": {},
   "source": [
    "## B.1 Geany"
   ]
  },
  {
   "cell_type": "markdown",
   "metadata": {},
   "source": [
    "#### Geany是一款简单的编辑器， 你可以在其中直接运行几乎任何程序。 它还在一个终端窗口中显示程序的输出， 这有助于你逐渐习惯使用终端。"
   ]
  },
  {
   "cell_type": "markdown",
   "metadata": {},
   "source": [
    "## B.2 Sublime Text"
   ]
  },
  {
   "cell_type": "markdown",
   "metadata": {},
   "source": [
    "#### Sublime Text是一款简单的文本编辑器， 它在OS X（及其他系统） 中易于安装， 让你能够直接运行几乎所有程序。 它还能在内嵌在Sublime Text窗口内的终端会话中运行代码， 让你能够轻松地查看输出。"
   ]
  },
  {
   "cell_type": "markdown",
   "metadata": {},
   "source": [
    "## B.3 IDLE"
   ]
  },
  {
   "cell_type": "markdown",
   "metadata": {},
   "source": [
    "#### IDLE是Python的默认编辑器， 相比于Geany和Sublime Text， 它不那么直观， 但其他教程指出它适合初学者使用， 因此你不妨试一试。"
   ]
  },
  {
   "cell_type": "markdown",
   "metadata": {},
   "source": [
    "## B.4 Emacs和vim"
   ]
  },
  {
   "cell_type": "markdown",
   "metadata": {},
   "source": [
    "#### Emacs和vim是两款流行的编辑器， 深受众多经验丰富的程序员的喜爱， 因为使用它们时， 用户根本不用离开键盘。 因此， 学会使用这些编辑器后， 编写、 阅读和编辑代码的效率将极高； 这也意味着学习使用它们的难度极大。"
   ]
  },
  {
   "cell_type": "markdown",
   "metadata": {},
   "source": [
    "#### 程序员通常会推荐你试一试， 但很多熟练的程序员忘了编程新手尝试学习使用它们将花费很多时间。 知道这些编辑器是有益的， 但请先使用简单的编辑器， 它们让你能够专注于学习编程， 而不是费时间去学习如何使用编辑器。 等你能够熟悉地编写和编辑代码后， 再去使用这些编辑器吧。"
   ]
  },
  {
   "cell_type": "code",
   "execution_count": null,
   "metadata": {},
   "outputs": [],
   "source": []
  }
 ],
 "metadata": {
  "kernelspec": {
   "display_name": "Python 3",
   "language": "python",
   "name": "python3"
  },
  "language_info": {
   "codemirror_mode": {
    "name": "ipython",
    "version": 3
   },
   "file_extension": ".py",
   "mimetype": "text/x-python",
   "name": "python",
   "nbconvert_exporter": "python",
   "pygments_lexer": "ipython3",
   "version": "3.8.3"
  },
  "toc": {
   "base_numbering": 1,
   "nav_menu": {},
   "number_sections": false,
   "sideBar": true,
   "skip_h1_title": false,
   "title_cell": "Table of Contents",
   "title_sidebar": "Contents",
   "toc_cell": false,
   "toc_position": {},
   "toc_section_display": true,
   "toc_window_display": true
  }
 },
 "nbformat": 4,
 "nbformat_minor": 4
}
