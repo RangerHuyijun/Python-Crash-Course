{
 "cells": [
  {
   "cell_type": "markdown",
   "metadata": {},
   "source": [
    "# 附录A 安装Python"
   ]
  },
  {
   "cell_type": "markdown",
   "metadata": {},
   "source": [
    "### Python有多个不同的版本， 而在各种操作系统中安装它的方式有很多。 如果第1章介绍的方法不管用， 或者你要安装非系统自带的Python版本， 这个附录可提供帮助。"
   ]
  },
  {
   "cell_type": "markdown",
   "metadata": {},
   "source": [
    "## A.1 在Linux系统中安装Python"
   ]
  },
  {
   "cell_type": "markdown",
   "metadata": {},
   "source": [
    "#### 几乎所有Linux系统都默认安装了Python， 但你可能想使用非默认版本。 如果是这样， 请首先确定已安装的Python版本。"
   ]
  },
  {
   "cell_type": "markdown",
   "metadata": {},
   "source": [
    "### A.1.1 确定已安装的版本"
   ]
  },
  {
   "cell_type": "markdown",
   "metadata": {},
   "source": [
    "#### 打开一个终端窗口， 并执行如下命令："
   ]
  },
  {
   "cell_type": "markdown",
   "metadata": {},
   "source": [
    "#### $ python --version\n",
    "#### Python 3.8.3"
   ]
  },
  {
   "cell_type": "markdown",
   "metadata": {},
   "source": [
    "#### 输出表明默认版本是3.8.3， 但系统可能还安装了一个Python 2版本。 为核实这一点， 请执行如下命令："
   ]
  },
  {
   "cell_type": "markdown",
   "metadata": {},
   "source": [
    "#### $ python2 --version\n",
    "#### Python 2.7.12"
   ]
  },
  {
   "cell_type": "markdown",
   "metadata": {},
   "source": [
    "#### 输出表明也安装了Python 2.7.12。 安装新版本前， 有必要执行上述两个命令。"
   ]
  },
  {
   "cell_type": "markdown",
   "metadata": {},
   "source": [
    "### A.1.2 在Linux系统中安装Python 3"
   ]
  },
  {
   "cell_type": "markdown",
   "metadata": {},
   "source": [
    "#### 如果你的系统没有安装Python 3， 或者你想安装较新的Python 3版本， 只需执行几个命令即可。 我们使用一个名为deadsnakes 的包， 它让安装多个Python版本变得很容易："
   ]
  },
  {
   "cell_type": "markdown",
   "metadata": {},
   "source": [
    "#### $ sudo add-apt-repository ppa:fkrull/deadsnakes"
   ]
  },
  {
   "cell_type": "markdown",
   "metadata": {},
   "source": [
    "#### $ sudo apt-get update"
   ]
  },
  {
   "cell_type": "markdown",
   "metadata": {},
   "source": [
    "#### $ sudo apt-get install python3.9"
   ]
  },
  {
   "cell_type": "markdown",
   "metadata": {},
   "source": [
    "#### 备注：也可参考博客上更好的安装方式，不必完全拘泥于上面所讲！"
   ]
  },
  {
   "cell_type": "markdown",
   "metadata": {},
   "source": [
    "#### 这些命令在你的系统中安装Python 3.9。 下面的命令启动一个运行Python 3.9的终端会话："
   ]
  },
  {
   "cell_type": "markdown",
   "metadata": {},
   "source": [
    "#### $ python3.9"
   ]
  },
  {
   "cell_type": "markdown",
   "metadata": {},
   "source": [
    "#### >>>"
   ]
  },
  {
   "cell_type": "markdown",
   "metadata": {},
   "source": [
    "#### 配置文本编辑器使其使用Python 3以及从终端运行程序时， 也需要用到这个命令。"
   ]
  },
  {
   "cell_type": "markdown",
   "metadata": {},
   "source": [
    "## A.2 在OS X系统中安装Python"
   ]
  },
  {
   "cell_type": "markdown",
   "metadata": {},
   "source": [
    "#### 大多数OS X系统都安装了Python， 但你可能想使用非默认版本。 如果是这样， 请首先确定已安装了哪个版本的Python。"
   ]
  },
  {
   "cell_type": "markdown",
   "metadata": {},
   "source": [
    "### A.2.1 确定已安装的版本"
   ]
  },
  {
   "cell_type": "markdown",
   "metadata": {},
   "source": [
    "#### 打开一个终端窗口， 并执行如下命令："
   ]
  },
  {
   "cell_type": "markdown",
   "metadata": {},
   "source": [
    "#### $ python --version"
   ]
  },
  {
   "cell_type": "markdown",
   "metadata": {},
   "source": [
    "#### Python 3.8.3"
   ]
  },
  {
   "cell_type": "markdown",
   "metadata": {},
   "source": [
    "#### 你还应尝试执行命令python2 --version 。 执行这个命令时， 可能会出现错误消息， 但若要确定安装了哪些Python版本， 有必要执行这个命令。"
   ]
  },
  {
   "cell_type": "markdown",
   "metadata": {},
   "source": [
    "### A.2.2 使用Homebrew来安装Python 3"
   ]
  },
  {
   "cell_type": "markdown",
   "metadata": {},
   "source": [
    "#### 没见过这种安装方式，跳过！可直接搜索：如何在OS X系统中安装Python3等关键字。"
   ]
  },
  {
   "cell_type": "markdown",
   "metadata": {},
   "source": [
    "## A.3 在Windows系统中安装Python"
   ]
  },
  {
   "cell_type": "markdown",
   "metadata": {},
   "source": [
    "#### Windows系统默认未安装Python， 但有必要检查系统是否安装了它。 为此， 按住Shift键并右击桌面， 再选择“在此处打开命令窗口”来打开一个终端窗口。 你也可以在开始菜单中执行命令command 。 在打开的终端窗口中， 执行如下命令："
   ]
  },
  {
   "cell_type": "markdown",
   "metadata": {},
   "source": [
    "#### > python --version\n",
    "#### Python 3.8.3"
   ]
  },
  {
   "cell_type": "markdown",
   "metadata": {},
   "source": [
    "#### 如果你看到了类似于上面的输出， 说明已安装了Python， 但你可能想安装更新的版本。 如果看到一条错误消息， 就说明你需要下载并安装Python。"
   ]
  },
  {
   "cell_type": "markdown",
   "metadata": {},
   "source": [
    "### A.3.1 在Windows系统中安装Python 3"
   ]
  },
  {
   "cell_type": "markdown",
   "metadata": {},
   "source": [
    "#### 访问 http://python.org/downloads/ ， 并单击你要安装的Python版本。 下载安装程序， 并在运行它时选择复选框Add Python to PATH。 这让你不用手工修改系统的环境变量， 在执行命令python 时也无需指定其完整路径。 安装Python后， 打开一个新的终端窗口， 并在其中执行命令python --version 。 如果没有报错， 就说明Python安装好了。"
   ]
  },
  {
   "cell_type": "markdown",
   "metadata": {},
   "source": [
    "### A.3.2 查找Python解释器"
   ]
  },
  {
   "cell_type": "markdown",
   "metadata": {},
   "source": [
    "#### 如果不能执行简单命令python ， 你就需要告诉Windows去哪里查找Python解释器。 要确定Python解释器的位置， 请打开C盘， 并在其中查找名称以Python打头的文件夹（要找到这样的文件夹， 你可能需要在Windows资源管理器中的搜索栏中输入单词python）。 打开这个文件夹， 并查找名称为python（全部小写） 的文件。 右击这个文件并选择“属性”， 你将在“位置： ”右边看到它的路径。"
   ]
  },
  {
   "cell_type": "markdown",
   "metadata": {},
   "source": [
    "#### 在终端窗口中， 使用该路径来确定刚安装的Python版本："
   ]
  },
  {
   "cell_type": "markdown",
   "metadata": {},
   "source": [
    "#### > C:\\\\Python35\\python --version\n",
    "#### Python 3.8.3"
   ]
  },
  {
   "cell_type": "markdown",
   "metadata": {},
   "source": [
    "### A.3.3 将Python添加到环境变量Path中"
   ]
  },
  {
   "cell_type": "markdown",
   "metadata": {},
   "source": [
    "#### 如果每次启动Python解释器时都需要输入完整的路径， 那就太讨厌了； 有鉴于此， 我们将在系统中添加这个路径， 让你只需使用命令python 即可。 如果你在安装Python时选择了复选框Add Python to PATH， 可跳过这一步。 打开控制面板并单击“系统和安全”， 再单击“系统”。 单击“高级系统设置”， 在打开的窗口中单击按钮“环境变量”。"
   ]
  },
  {
   "cell_type": "markdown",
   "metadata": {},
   "source": [
    "#### 在“系统变量”部分， 找到并单击变量Path ， 再单击按钮“编辑”。 在出现的对话框中， 单击“变量值”， 并使用右箭头键滚到最右边。 千万不要覆盖变量原来的值， 如果你不小心这样做了， 单击“取消”按钮， 再重复前面的步骤。 在变量值的末尾添加一个分号， 再添加文件python.exe的路径："
   ]
  },
  {
   "cell_type": "markdown",
   "metadata": {},
   "source": [
    "#### %SystemRoot%\\system32\\...\\System32\\WindowsPowerShell\\v1.0\\;C:\\Python38"
   ]
  },
  {
   "cell_type": "markdown",
   "metadata": {},
   "source": [
    "#### 关闭终端窗口， 再打开一个新的终端窗口。 这将在终端会话中加载变量Path 的新值。 现在当你执行命令python --version 时， 将看到刚才在变量Path 中设置的Python版本。 现在， 你只需在命令提示符下输入python 并按回车， 就可启动Python终端会话了。"
   ]
  },
  {
   "cell_type": "markdown",
   "metadata": {},
   "source": [
    "## A.4 Python关键字和内置函数"
   ]
  },
  {
   "cell_type": "markdown",
   "metadata": {},
   "source": [
    "#### Python包含一系列关键字和内置函数， 给变量命名时， 知道这些关键字和内置函数很重要。 编程中面临的一个挑战是给变量指定合适的名称， 变量名可以是任何东西， 只要它长短合适并描述了变量的作用。 同时， 不能将Python关键字用作变量名； 也不应将Python内置函数的名称用作变量名， 否则将覆盖相应的内置函数。"
   ]
  },
  {
   "cell_type": "markdown",
   "metadata": {},
   "source": [
    "#### 本节将列出Python关键字和内置函数的名称， 让你知道应避免使用哪些变量名。"
   ]
  },
  {
   "cell_type": "markdown",
   "metadata": {},
   "source": [
    "### A.4.1 Python关键字"
   ]
  },
  {
   "cell_type": "markdown",
   "metadata": {},
   "source": [
    "#### 下面的关键字都有特殊含义， 如果你将它们用作变量名， 将引发错误："
   ]
  },
  {
   "cell_type": "markdown",
   "metadata": {},
   "source": [
    "![a_4_1.PNG](./a_4_1.PNG)"
   ]
  },
  {
   "cell_type": "markdown",
   "metadata": {},
   "source": [
    "### A.4.2 Python内置函数"
   ]
  },
  {
   "cell_type": "markdown",
   "metadata": {},
   "source": [
    "#### 将内置函数名用作变量名时， 不会导致错误， 但将覆盖这些函数的行为："
   ]
  },
  {
   "cell_type": "markdown",
   "metadata": {},
   "source": [
    "![a_4_2.PNG](./a_4_2.PNG)"
   ]
  },
  {
   "cell_type": "markdown",
   "metadata": {},
   "source": [
    "#### 注意:在Python 2.7中， print 是关键字而不是函数。 另外， Python 3没有内置函数unicode() 。 这两个单词都不应用作变量名。"
   ]
  },
  {
   "cell_type": "code",
   "execution_count": null,
   "metadata": {},
   "outputs": [],
   "source": []
  }
 ],
 "metadata": {
  "kernelspec": {
   "display_name": "Python 3",
   "language": "python",
   "name": "python3"
  },
  "language_info": {
   "codemirror_mode": {
    "name": "ipython",
    "version": 3
   },
   "file_extension": ".py",
   "mimetype": "text/x-python",
   "name": "python",
   "nbconvert_exporter": "python",
   "pygments_lexer": "ipython3",
   "version": "3.8.3"
  },
  "toc": {
   "base_numbering": 1,
   "nav_menu": {},
   "number_sections": false,
   "sideBar": true,
   "skip_h1_title": false,
   "title_cell": "Table of Contents",
   "title_sidebar": "Contents",
   "toc_cell": false,
   "toc_position": {},
   "toc_section_display": true,
   "toc_window_display": true
  }
 },
 "nbformat": 4,
 "nbformat_minor": 4
}
