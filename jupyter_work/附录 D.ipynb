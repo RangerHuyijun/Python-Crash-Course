{
 "cells": [
  {
   "cell_type": "markdown",
   "metadata": {},
   "source": [
    "# 附录 D 使用Git进行版本控制"
   ]
  },
  {
   "cell_type": "markdown",
   "metadata": {},
   "source": [
    "#### 版本控制软件让你能够拍摄处于可行状态的项目的快照。 修改项目（如实现新功能） 后， 如果项目不能正常运行， 可恢复到前一个可行状态。"
   ]
  },
  {
   "cell_type": "markdown",
   "metadata": {},
   "source": [
    "#### 通过使用版本控制软件， 你可以无忧无虑地改进项目， 不用担心项目因你犯了错而遭到破坏。 对大型项目来说， 这显得尤其重要， 但对于较小的项目， 哪怕是只包含一个文件的程序， 这也大有裨益。"
   ]
  },
  {
   "cell_type": "markdown",
   "metadata": {},
   "source": [
    "#### 在这个附录中， 你将学习如何安装Git， 以及如何使用它来对当前开发的程序进行版本控制。 Git是当前最流行的版本控制软件， 它包含很多高级工具， 可帮助团队协作开发大型项目， 但其最基本的功能也非常适合独立开发人员使用。 Git通过跟踪对项目中每个文件的修改来实现版本控制， 如果你犯了错， 只需恢复到保存的前一个状态即可。"
   ]
  },
  {
   "cell_type": "markdown",
   "metadata": {},
   "source": [
    "## D.1 安装Git"
   ]
  },
  {
   "cell_type": "markdown",
   "metadata": {},
   "source": [
    "#### Git可在所有操作系统上运行， 但其安装方法因操作系统而异。 接下来的几节详细说明了如何在各种操作系统中安装它。"
   ]
  },
  {
   "cell_type": "markdown",
   "metadata": {},
   "source": [
    "### D.1.1 在Linux系统中安装Git"
   ]
  },
  {
   "cell_type": "markdown",
   "metadata": {},
   "source": [
    "#### 要在Linux系统中安装Git， 请执行如下命令：\n",
    "#### $ sudo apt-get install git"
   ]
  },
  {
   "cell_type": "markdown",
   "metadata": {},
   "source": [
    "#### 这就成了。 你现在可以在项目中使用Git了。"
   ]
  },
  {
   "cell_type": "markdown",
   "metadata": {},
   "source": [
    "### D.1.2 在OS X系统中安装Git"
   ]
  },
  {
   "cell_type": "markdown",
   "metadata": {},
   "source": [
    "#### 你的OS X系统可能已经安装了Git， 因此请尝试执行命令git --version 。 如果你在输出中看到了具体的版本号， 说明你的系统安装了Git； 如果你看到一条消息， 提示你安装或升级Git， 只需按屏幕上的说明做即可。"
   ]
  },
  {
   "cell_type": "markdown",
   "metadata": {},
   "source": [
    "#### 你也可以访问 https://git-scm.com/ ， 单击链接Downloads， 再单击适合你所用系统的安装程序。"
   ]
  },
  {
   "cell_type": "markdown",
   "metadata": {},
   "source": [
    "### D.1.3 在Windows系统中安装Git"
   ]
  },
  {
   "cell_type": "markdown",
   "metadata": {},
   "source": [
    "#### 要在Windows系统中安装Git， 请访问 http://msysgit.github.io/ ， 并单击Download。"
   ]
  },
  {
   "cell_type": "markdown",
   "metadata": {},
   "source": [
    "### D.1.4 配置Git"
   ]
  },
  {
   "cell_type": "markdown",
   "metadata": {},
   "source": [
    "#### Git跟踪谁修改了项目， 哪怕参与项目开发的人只有一个。 为此， Git需要知道你的用户名和电子邮件地址。 你必须提供用户名， 但可以使用虚构的电子邮件地址："
   ]
  },
  {
   "cell_type": "markdown",
   "metadata": {},
   "source": [
    "#### $ git config --global user.name \"username\""
   ]
  },
  {
   "cell_type": "markdown",
   "metadata": {},
   "source": [
    "#### $ git config --global user.email \"username@example.com\""
   ]
  },
  {
   "cell_type": "markdown",
   "metadata": {},
   "source": [
    "#### 如果你忘记了这一步， 在你首次提交时， Git将提示你提供这些信息。"
   ]
  },
  {
   "cell_type": "markdown",
   "metadata": {},
   "source": [
    "## D.2 创建项目"
   ]
  },
  {
   "cell_type": "markdown",
   "metadata": {},
   "source": [
    "#### 我们来创建一个要进行版本控制的项目。 在你的系统中创建一个文件夹， 并将其命名为git_practice。 在这个文件夹中， 创建一个简单的Python程序："
   ]
  },
  {
   "cell_type": "markdown",
   "metadata": {},
   "source": [
    "#### hello_world.py"
   ]
  },
  {
   "cell_type": "code",
   "execution_count": 2,
   "metadata": {},
   "outputs": [
    {
     "name": "stdout",
     "output_type": "stream",
     "text": [
      "Hello Git world!\n"
     ]
    }
   ],
   "source": [
    "print(\"Hello Git world!\")"
   ]
  },
  {
   "cell_type": "markdown",
   "metadata": {},
   "source": [
    "#### 我们将使用这个程序来探索Git的基本功能。"
   ]
  },
  {
   "cell_type": "markdown",
   "metadata": {},
   "source": [
    "## D.3 忽略文件"
   ]
  },
  {
   "cell_type": "markdown",
   "metadata": {},
   "source": [
    "#### 扩展名为.pyc的文件是根据.py文件自动生成的， 因此我们无需让Git跟踪它们。 这些文件存储在目录__pycache__中。 为让Git忽略这个目录， 创建一个名为.gitignore的特殊文件（这个文件名以句点打头， 且没有扩展名） ， 并在其中添加下面一行内容："
   ]
  },
  {
   "cell_type": "markdown",
   "metadata": {},
   "source": [
    "#### .gitignore\n",
    "#### __pycache__/"
   ]
  },
  {
   "cell_type": "markdown",
   "metadata": {},
   "source": [
    "#### 这让Git忽略目录__pycache__中的所有文件。 使用文件.gitignore可避免项目混乱， 开发起来更容易。"
   ]
  },
  {
   "cell_type": "markdown",
   "metadata": {},
   "source": [
    "### 注意\n",
    "#### 如果你使用的是Python 2.7， 请将这行内容改为*.pyc 。 Python 2.7不会创建目录__pycache__， 它将每个.pyc文件都存储在相应.py文件所在的目录中。 其中的星号让Git忽略所有扩展名为.pyc的文件。"
   ]
  },
  {
   "cell_type": "markdown",
   "metadata": {},
   "source": [
    "#### 你可能需要修改文本编辑器的设置， 使其显示隐藏的文件， 这样才能使用它来打开文件.gitignore。 有些编辑器被设置成忽略名称以句点打头的文件。"
   ]
  },
  {
   "cell_type": "markdown",
   "metadata": {},
   "source": [
    "## D.4 初始化仓库"
   ]
  },
  {
   "cell_type": "markdown",
   "metadata": {},
   "source": [
    "#### 你创建了一个目录， 其中包含一个Python文件和一个.gitignore文件， 可以初始化一个Git仓库了。 为此， 打开一个终端窗口， 切换到文件夹git_practice， 并执行如下命令："
   ]
  },
  {
   "cell_type": "markdown",
   "metadata": {},
   "source": [
    "#### git_practice$ git init"
   ]
  },
  {
   "cell_type": "markdown",
   "metadata": {},
   "source": [
    "#### Initialized empty Git repository in git_practice/.git/"
   ]
  },
  {
   "cell_type": "markdown",
   "metadata": {},
   "source": [
    "#### git_practice$"
   ]
  },
  {
   "cell_type": "markdown",
   "metadata": {},
   "source": [
    "#### 输出表明Git在git_practice中初始化了一个空仓库。 仓库是程序中被Git主动跟踪的一组文件。 Git用来管理仓库的文件都存储在隐藏的.git/中， 你根本不需要与这个目录打交道， 但千万不要删除这个目录， 否则将丢弃项目的所有历史记录。"
   ]
  },
  {
   "cell_type": "markdown",
   "metadata": {},
   "source": [
    "## D.5 检查状态"
   ]
  },
  {
   "cell_type": "markdown",
   "metadata": {},
   "source": [
    "#### 执行其他操作前， 先来看一下项目的状态："
   ]
  },
  {
   "cell_type": "markdown",
   "metadata": {},
   "source": [
    "![d_5.PNG](./screenshot/d_5.PNG)"
   ]
  },
  {
   "cell_type": "markdown",
   "metadata": {},
   "source": [
    "## D.6 将文件加入到仓库中"
   ]
  },
  {
   "cell_type": "markdown",
   "metadata": {},
   "source": [
    "#### 下面将这两个文件加入到仓库中， 并再次检查状态："
   ]
  },
  {
   "cell_type": "markdown",
   "metadata": {},
   "source": [
    "![d_6.PNG](./screenshot/d_6.PNG)"
   ]
  },
  {
   "cell_type": "markdown",
   "metadata": {},
   "source": [
    "## D.7 执行提交"
   ]
  },
  {
   "cell_type": "markdown",
   "metadata": {},
   "source": [
    "#### 下面来执行第一次提交："
   ]
  },
  {
   "cell_type": "markdown",
   "metadata": {},
   "source": [
    "![d_7.PNG](./screenshot/d_7.PNG)"
   ]
  },
  {
   "cell_type": "markdown",
   "metadata": {},
   "source": [
    "## D.8 查看提交历史"
   ]
  },
  {
   "cell_type": "markdown",
   "metadata": {},
   "source": [
    "#### Git记录所有的项目提交。 下面来看一下提交历史："
   ]
  },
  {
   "cell_type": "markdown",
   "metadata": {},
   "source": [
    "![d_8_1.PNG](./screenshot/d_8_1.PNG)"
   ]
  },
  {
   "cell_type": "markdown",
   "metadata": {},
   "source": [
    "#### 你每次提交时， Git都会生成一个包含40字符的独一无二的引用ID。 它记录提交是谁执行的、 提交的时间以及提交时指定的消息。 并非在任何情况下你都需要所有这些信息， 因此Git提供了一个选项， 让你能够打印提交历史条目的更简单的版本："
   ]
  },
  {
   "cell_type": "markdown",
   "metadata": {},
   "source": [
    "![d_8_2.PNG](./screenshot/d_8_2.PNG)"
   ]
  },
  {
   "cell_type": "markdown",
   "metadata": {},
   "source": [
    "#### 标志--pretty=oneline 指定显示两项最重要的信息： 提交的引用ID以及为提交记录的消息。"
   ]
  },
  {
   "cell_type": "markdown",
   "metadata": {},
   "source": [
    "## D.9 第二次提交"
   ]
  },
  {
   "cell_type": "markdown",
   "metadata": {},
   "source": [
    "#### 为展示版本控制的强大威力， 我们需要对项目进行修改， 并提交所做的修改。 为此， 我们在hello_world.py中再添加一行代码："
   ]
  },
  {
   "cell_type": "markdown",
   "metadata": {},
   "source": [
    "#### hello_world.py"
   ]
  },
  {
   "cell_type": "code",
   "execution_count": 4,
   "metadata": {},
   "outputs": [
    {
     "name": "stdout",
     "output_type": "stream",
     "text": [
      "Hello Git world!\n",
      "Hello everyone.\n"
     ]
    }
   ],
   "source": [
    "print(\"Hello Git world!\")\n",
    "print(\"Hello everyone.\")"
   ]
  },
  {
   "cell_type": "markdown",
   "metadata": {},
   "source": [
    "#### 如果我们现在查看项目的状态， 将发现Git注意到了这个文件发生了变化："
   ]
  },
  {
   "cell_type": "markdown",
   "metadata": {},
   "source": [
    "![d_9.PNG](./screenshot/d_9.PNG)"
   ]
  },
  {
   "cell_type": "markdown",
   "metadata": {},
   "source": [
    "## D.10 撤销修改"
   ]
  },
  {
   "cell_type": "markdown",
   "metadata": {},
   "source": [
    "#### 下面来看看如何放弃所做的修改， 恢复到前一个可行状态。 为此， 首先在hello_world.py中再添加一行代码："
   ]
  },
  {
   "cell_type": "markdown",
   "metadata": {},
   "source": [
    "#### hello_world.py"
   ]
  },
  {
   "cell_type": "code",
   "execution_count": 5,
   "metadata": {},
   "outputs": [
    {
     "name": "stdout",
     "output_type": "stream",
     "text": [
      "Hello Git world!\n",
      "Hello everyone.\n",
      "Oh no, I broke the project!\n"
     ]
    }
   ],
   "source": [
    "print(\"Hello Git world!\")\n",
    "print(\"Hello everyone.\")\n",
    "print(\"Oh no, I broke the project!\")"
   ]
  },
  {
   "cell_type": "markdown",
   "metadata": {},
   "source": [
    "#### 保存并运行这个文件。"
   ]
  },
  {
   "cell_type": "markdown",
   "metadata": {},
   "source": [
    "#### 我们查看状态， 发现Git注意到了所做的修改："
   ]
  },
  {
   "cell_type": "markdown",
   "metadata": {},
   "source": [
    "![d_10.PNG](./screenshot/d_10.PNG)"
   ]
  },
  {
   "cell_type": "markdown",
   "metadata": {},
   "source": [
    "#### 如果我们返回到文本编辑器， 将发现hello_world.py被修改成了下面这样：\n",
    "#### print(\"Hello Git world!\")\n",
    "#### print(\"Hello everyone.\")"
   ]
  },
  {
   "cell_type": "markdown",
   "metadata": {},
   "source": [
    "#### 就这个项目而言， 恢复到前一个状态微不足道， 但如果我们开发的是大型项目， 其中数十个文件都被修改了， 那么恢复到前一个状态， 将撤销自最后一次提交后对这些文件所做的所有修改。 这个功能很有用： 实现新功能时， 你可以根据需要做任意数量的修改， 如果这些修改不可行， 可撤销它们， 而不会对项目有任何伤害。 你无需记住做了哪些修改，因而不必手工撤销所做的修改， Git会替你完成所有这些工作。"
   ]
  },
  {
   "cell_type": "markdown",
   "metadata": {},
   "source": [
    "### 注意\n",
    "#### 想要看到以前的版本， 你可能需要在编辑器窗口中单击， 以刷新文件。"
   ]
  },
  {
   "cell_type": "markdown",
   "metadata": {},
   "source": [
    "## D.11 检出以前的提交"
   ]
  },
  {
   "cell_type": "markdown",
   "metadata": {},
   "source": [
    "#### 你可以检出提交历史中的任何提交， 而不仅仅是最后一次提交， 为此可在命令git check 末尾指定该提交的引用ID的前6个字符（而不是句点） 。 通过检出以前的提交， 你可以对其进行审核， 然后返回到最后一次提交， 或者放弃最近所做的工作， 并选择以前的提交："
   ]
  },
  {
   "cell_type": "markdown",
   "metadata": {},
   "source": [
    "![d_11_1.PNG](./screenshot/d_11_1.PNG)"
   ]
  },
  {
   "cell_type": "markdown",
   "metadata": {},
   "source": [
    "#### 这让你回到分支master 。 除非你要使用Git的高级功能， 否则在检出以前的提交后， 最好不要对项目做任何修改。 然而， 如果参与项目开发的人只有你自己， 而你又想放弃较近的所有提交， 并恢复到以前的状态， 也可以将项目重置到以前的提交。 为此， 可在处于分支master 上的情况下， 执行如下命令："
   ]
  },
  {
   "cell_type": "markdown",
   "metadata": {},
   "source": [
    "![d_11_2.PNG](./screenshot/d_11_2.PNG)"
   ]
  },
  {
   "cell_type": "markdown",
   "metadata": {},
   "source": [
    "## D.12 删除仓库"
   ]
  },
  {
   "cell_type": "markdown",
   "metadata": {},
   "source": [
    "#### 有时候， 仓库的历史记录被你搞乱了， 而你又不知道如何恢复。 在这种情况下， 你首先应考虑使用附录C介绍的方法寻求帮助。 如果无法恢复且参与项目开发的只有你一个人，可继续使用这些文件， 但要将项目的历史记录删除——删除目录.git。 这不会影响任何文件的当前状态， 而只会删除所有的提交， 因此你将无法检出项目的其他任何状态。"
   ]
  },
  {
   "cell_type": "markdown",
   "metadata": {},
   "source": [
    "#### 为此， 可打开一个文件浏览器， 并将目录.git删除， 也可通过命令行完成这个任务。 这样做后， 你需要重新创建一个仓库， 以重新对修改进行跟踪。 下面演示了如何在终端会话中完成这个过程："
   ]
  },
  {
   "cell_type": "markdown",
   "metadata": {},
   "source": [
    "![d_12.PNG](./screenshot/d_12.PNG)"
   ]
  },
  {
   "cell_type": "markdown",
   "metadata": {},
   "source": [
    "#### 需要经过一定的练习才能学会使用版本控制， 但一旦开始使用， 你就再也离不开它。"
   ]
  },
  {
   "cell_type": "code",
   "execution_count": null,
   "metadata": {},
   "outputs": [],
   "source": []
  }
 ],
 "metadata": {
  "kernelspec": {
   "display_name": "Python 3",
   "language": "python",
   "name": "python3"
  },
  "language_info": {
   "codemirror_mode": {
    "name": "ipython",
    "version": 3
   },
   "file_extension": ".py",
   "mimetype": "text/x-python",
   "name": "python",
   "nbconvert_exporter": "python",
   "pygments_lexer": "ipython3",
   "version": "3.8.3"
  },
  "toc": {
   "base_numbering": 1,
   "nav_menu": {},
   "number_sections": false,
   "sideBar": true,
   "skip_h1_title": false,
   "title_cell": "Table of Contents",
   "title_sidebar": "Contents",
   "toc_cell": false,
   "toc_position": {},
   "toc_section_display": true,
   "toc_window_display": false
  }
 },
 "nbformat": 4,
 "nbformat_minor": 4
}
