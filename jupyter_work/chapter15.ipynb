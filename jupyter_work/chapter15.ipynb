{
 "cells": [
  {
   "cell_type": "markdown",
   "metadata": {},
   "source": [
    "# 第二部分 项目"
   ]
  },
  {
   "cell_type": "markdown",
   "metadata": {},
   "source": [
    "## 因为我目前主要做深度学习，因此将着重完成第二个项目——数据可视化(第15-17章)"
   ]
  },
  {
   "cell_type": "markdown",
   "metadata": {},
   "source": [
    "## 项目2—数据可视化"
   ]
  },
  {
   "cell_type": "markdown",
   "metadata": {},
   "source": [
    "# 第15章 生成数据"
   ]
  },
  {
   "cell_type": "markdown",
   "metadata": {},
   "source": [
    "### 1.数据可视化指的是通过可视化表示来探索数据，它与数据挖掘紧密相关，而数据挖掘指的是使用代码来探索数据集的规律和关联。\n",
    "### 2.最流行的工具之一是matplotlib,它是一个数学绘图库，我们将使用它来制作简单的图表，如折线图和散点图。\n",
    "### 3.Pygal包，它专注于生成适合在数字设备上显示的图表。"
   ]
  },
  {
   "cell_type": "markdown",
   "metadata": {},
   "source": [
    "## 15.1 安装 matplotlib "
   ]
  },
  {
   "cell_type": "markdown",
   "metadata": {},
   "source": [
    "### 15.1.1 在Linux系统中安装matplotlib"
   ]
  },
  {
   "cell_type": "markdown",
   "metadata": {},
   "source": [
    "#### 如果你使用的是系统自带的Python版本，可使用系统的包管理器来安装matplotlib,为此只需执行一行命令："
   ]
  },
  {
   "cell_type": "markdown",
   "metadata": {},
   "source": [
    "#### $sudo apt-get install python3-matplotlib"
   ]
  },
  {
   "cell_type": "markdown",
   "metadata": {},
   "source": [
    "#### 如果你使用的是Python2.7,请执行如下命令："
   ]
  },
  {
   "cell_type": "markdown",
   "metadata": {},
   "source": [
    "#### $sudo apt-get install python-matplotlib"
   ]
  },
  {
   "cell_type": "markdown",
   "metadata": {},
   "source": [
    "#### 如果你安装了较新的Python版本， 就必须安装matplotlib依赖的一些库："
   ]
  },
  {
   "cell_type": "markdown",
   "metadata": {},
   "source": [
    "#### $sudo apt-get install python3.5-dev python3.5-tk tk-dev"
   ]
  },
  {
   "cell_type": "markdown",
   "metadata": {},
   "source": [
    "#### $sudo apt-get install libfreetype6-dev g++"
   ]
  },
  {
   "cell_type": "markdown",
   "metadata": {},
   "source": [
    "#### 再使用pip来安装matplotlib："
   ]
  },
  {
   "cell_type": "markdown",
   "metadata": {},
   "source": [
    "#### $pip install --user matplotlib"
   ]
  },
  {
   "cell_type": "markdown",
   "metadata": {},
   "source": [
    "### 15.1.2 在OS X系统中安装matplotlib"
   ]
  },
  {
   "cell_type": "markdown",
   "metadata": {},
   "source": [
    "#### Apple的标准Python安装自带了matplotlib。 要检查系统是否安装了matplotlib， 可打开一个终端会话并尝试导入matplotlib。 如果系统没有自带matplotlib， 且你的Python是使用Homebrew安装的， 则可以像下面这样安装matplotlib："
   ]
  },
  {
   "cell_type": "markdown",
   "metadata": {},
   "source": [
    "#### $pip install --user matplotlib"
   ]
  },
  {
   "cell_type": "markdown",
   "metadata": {},
   "source": [
    "### 注意：\n",
    "#### 安装包时可能需要使用pip3 ， 而不是pip 。 另外， 如果这个命令不管用， 你可能需要删除标志--user 。"
   ]
  },
  {
   "cell_type": "markdown",
   "metadata": {},
   "source": [
    "### 15.1.3 在Windows系统中安装matplotlib"
   ]
  },
  {
   "cell_type": "markdown",
   "metadata": {},
   "source": [
    "#### 在Windows系统中， 首先需要安装Visual Studio。 为此， 请访问 https://dev.windows.com/ ，单击Downloads， 再查找Visual Studio Community——一组免费的Windows开发工具。 请下载并运行该安装程序。"
   ]
  },
  {
   "cell_type": "markdown",
   "metadata": {},
   "source": [
    "#### 接下来， 需要下载matplotlib安装程序。 为此， 请访问 https://pypi.python.org/pypi/matplotlib/ ，并查找与你使用的Python版本匹配的wheel文件（扩展名为.whl的文件） 。 例如， 如果你使用的是32位的Python 3.5， 则需要下载matplotlib-1.4.3-cp35-none-win32.whl。"
   ]
  },
  {
   "cell_type": "markdown",
   "metadata": {},
   "source": [
    "### 注意：\n",
    "#### 如果找不到与你安装的Python版本匹配的文件，请去 http://www.lfd.uci.edu/-gohlke/pythonlibs/#matplotlib 看看， 这个网站发布安装程序的时间通常比matplotlib官网早些。"
   ]
  },
  {
   "cell_type": "markdown",
   "metadata": {},
   "source": [
    "#### 将这个.whl文件复制到你的项目文件夹， 打开一个命令窗口， 并切换到该项目文件夹， 再使用pip来安装matplotlib："
   ]
  },
  {
   "cell_type": "markdown",
   "metadata": {},
   "source": [
    "#### > cd python_work\n",
    "#### python_work> python -m pip install --user matplotlib-1.4.3-cp35-none-win32.whl"
   ]
  },
  {
   "cell_type": "markdown",
   "metadata": {},
   "source": [
    "### 15.1.4 测试matplotlib"
   ]
  },
  {
   "cell_type": "markdown",
   "metadata": {},
   "source": [
    "#### 安装必要的包后， 对安装进行测试。 为此， 首先使用命令python 或python3 启动一个终端会话， 再尝试导入matplotlib："
   ]
  },
  {
   "cell_type": "markdown",
   "metadata": {},
   "source": [
    "#### $python3"
   ]
  },
  {
   "cell_type": "markdown",
   "metadata": {},
   "source": [
    "#### >>> import matplotlib\n",
    "#### >>>\n",
    "#### 如果没有出现任何错误消息， 就说明你的系统安装了matplotlib， 可以接着阅读下一节。"
   ]
  },
  {
   "cell_type": "markdown",
   "metadata": {},
   "source": [
    "### 15.1.5 matplotlib画廊\n",
    "#### 1.要查看使用matplotlib可制作的各种图表， 请访问 http://matplotlib.org/ 的示例画廊。单击画廊中的图表，就可查看用于生成图表的代码。\n",
    "#### 2.在这里也附上我微信收藏的matplotlib绘图教程——科研论文绘图实操干货！11种Matplotlib图表绘制教程，均含代码！：https://mp.weixin.qq.com/s/DNHAQ55zCGPDO6XkTZR3kA"
   ]
  },
  {
   "cell_type": "markdown",
   "metadata": {},
   "source": [
    "## 15.2 绘制简单的折线图"
   ]
  },
  {
   "cell_type": "markdown",
   "metadata": {},
   "source": [
    "#### mpl_squares.py"
   ]
  },
  {
   "cell_type": "code",
   "execution_count": 1,
   "metadata": {},
   "outputs": [
    {
     "data": {
      "image/png": "[encoded data removed]",
      "text/plain": [
       "<Figure size 432x288 with 1 Axes>"
      ]
     },
     "metadata": {
      "needs_background": "light"
     },
     "output_type": "display_data"
    }
   ],
   "source": [
    "import matplotlib.pyplot as plt\n",
    "\n",
    "squares = [1, 4, 9, 16, 25]\n",
    "plt.plot(squares) # plot()函数：展现变量的趋势变化，也就是画图。\n",
    "plt.show() # show()函数：将画的图显示出来。"
   ]
  },
  {
   "cell_type": "markdown",
   "metadata": {},
   "source": [
    "#### 1.我们首先导入了模块pyplot,并给它指定了别名plt,以免反复输入pyplot。\n",
    "#### 2.模块pyplot包含很多用于生成图表的函数。\n",
    "#### 3.plot()函数尝试根据数字绘制出有意义的图形。\n",
    "#### 4.plt.show()打开matplotlib查看器，并显示绘制的图形。\n",
    "#### 5.matplotlib是一个python标准库，因此它包含一组模块。pyplot、pylab都是matplotlib库中的功能模块。pyplot主要是完成数据可视化方面的功能，pylab除了可视化还有交互操作分析方面的功能，更综合，更接近matlab。因此，matplotlib.pyplot的意思是matplotlib库中的pyplot模块。"
   ]
  },
  {
   "cell_type": "markdown",
   "metadata": {},
   "source": [
    "### 15.2.1 修改标签文字和线条粗细"
   ]
  },
  {
   "cell_type": "markdown",
   "metadata": {},
   "source": [
    "#### mpl_squares.py"
   ]
  },
  {
   "cell_type": "code",
   "execution_count": 2,
   "metadata": {},
   "outputs": [
    {
     "data": {
      "image/png": "[encoded data removed]",
      "text/plain": [
       "<Figure size 432x288 with 1 Axes>"
      ]
     },
     "metadata": {
      "needs_background": "light"
     },
     "output_type": "display_data"
    }
   ],
   "source": [
    "import matplotlib.pyplot as plt\n",
    "\n",
    "squares = [1, 4, 9, 16, 25]\n",
    "plt.plot(squares, linewidth=5)\n",
    "\n",
    "# 设置图表标题并给坐标轴加上标签\n",
    "plt.title(\"Square Numbers\", fontsize=24) # title():设置图标题。\n",
    "plt.xlabel(\"Value\", fontsize=14) # xlabel():设置横坐标。\n",
    "plt.ylabel(\"Square of Value\", fontsize=14) # ylabel():设置纵坐标。\n",
    "\n",
    "# 设置刻度标记的大小\n",
    "plt.tick_params(axis='both', labelsize=14) # tick_params(）函数：设置刻度。\n",
    "plt.show()"
   ]
  },
  {
   "cell_type": "markdown",
   "metadata": {},
   "source": [
    "#### 1.参数linewidth决定了plot()绘制的线条粗细。\n",
    "#### 2.函数title()给图表指定标题。\n",
    "#### 3.函数xlabel()和ylabel()能够为每条轴设置标题。\n",
    "#### 4.函数tick_params()设置刻度的样式。"
   ]
  },
  {
   "cell_type": "markdown",
   "metadata": {},
   "source": [
    "### 15.2.2 校正图形"
   ]
  },
  {
   "cell_type": "markdown",
   "metadata": {},
   "source": [
    "#### 当你向plot()提供一系列数字时，它假设第一个数据点对应的x坐标值为0，但我们的第一个点对应的x值为1。为改变这种默认行为，我们可以给plot()同时提供输入值和输出值："
   ]
  },
  {
   "cell_type": "markdown",
   "metadata": {},
   "source": [
    "#### mpl_squares.py"
   ]
  },
  {
   "cell_type": "code",
   "execution_count": 3,
   "metadata": {},
   "outputs": [
    {
     "data": {
      "image/png": "[encoded data removed]",
      "text/plain": [
       "<Figure size 432x288 with 1 Axes>"
      ]
     },
     "metadata": {
      "needs_background": "light"
     },
     "output_type": "display_data"
    }
   ],
   "source": [
    "import matplotlib.pyplot as plt\n",
    "\n",
    "input_values = [1, 2, 3, 4, 5]\n",
    "squares = [1, 4, 9, 16, 25]\n",
    "plt.plot(input_values, squares, linewidth=5)\n",
    "\n",
    "# 设置图表标题并给坐标轴加上标签\n",
    "plt.title(\"Square Numbers\", fontsize=24)\n",
    "plt.xlabel(\"Value\", fontsize=14)\n",
    "plt.ylabel(\"Square of Value\", fontsize=14)\n",
    "\n",
    "# 设置刻度标记的大小\n",
    "plt.tick_params(axis='both', labelsize=14)\n",
    "plt.show()"
   ]
  },
  {
   "cell_type": "markdown",
   "metadata": {},
   "source": [
    "#### 使用plot()时可指定各种实参，还可使用众多函数对图形进行定制。"
   ]
  },
  {
   "cell_type": "markdown",
   "metadata": {},
   "source": [
    "### 15.2.3 使用scatter()绘制散点图并设置其样式"
   ]
  },
  {
   "cell_type": "markdown",
   "metadata": {},
   "source": [
    "#### 要绘制单个点，可使用函数scatter()，并向它传递一对x和y坐标，它将在指定位置绘制一个点："
   ]
  },
  {
   "cell_type": "markdown",
   "metadata": {},
   "source": [
    "#### scatter_squares.py"
   ]
  },
  {
   "cell_type": "code",
   "execution_count": 6,
   "metadata": {},
   "outputs": [
    {
     "data": {
      "image/png": "[encoded data removed]",
      "text/plain": [
       "<Figure size 432x288 with 1 Axes>"
      ]
     },
     "metadata": {
      "needs_background": "light"
     },
     "output_type": "display_data"
    }
   ],
   "source": [
    "import matplotlib.pyplot as plt\n",
    "\n",
    "plt.scatter(2, 4) # scatter(）函数：绘制散点图。\n",
    "plt.show()"
   ]
  },
  {
   "cell_type": "markdown",
   "metadata": {},
   "source": [
    "#### scatter_squares.py"
   ]
  },
  {
   "cell_type": "code",
   "execution_count": 11,
   "metadata": {},
   "outputs": [
    {
     "data": {
      "image/png": "[encoded data removed]",
      "text/plain": [
       "<Figure size 432x288 with 1 Axes>"
      ]
     },
     "metadata": {
      "needs_background": "light"
     },
     "output_type": "display_data"
    }
   ],
   "source": [
    "import matplotlib.pyplot as plt\n",
    "\n",
    "plt.scatter(2, 4, s=200)\n",
    "\n",
    "# 设置图表标题并给坐标轴加上标签\n",
    "plt.title(\"Square Numbers\", fontsize=24)\n",
    "plt.xlabel(\"Value\", fontsize=14)\n",
    "plt.ylabel(\"Square of Value\", fontsize=14)\n",
    "\n",
    "# 设置刻度标记的大小\n",
    "plt.tick_params(axis='both', which='major', labelsize=14)\n",
    "\n",
    "plt.show()"
   ]
  },
  {
   "cell_type": "markdown",
   "metadata": {},
   "source": [
    "### 注意：\n",
    "#### 1.使用实参s设置了绘制图形时使用的点的尺寸。\n",
    "#### 2.which='major'：官方文档查询介绍是matplotlib.pyplot.tick_params()中的which有三个可供选择'major'（主刻度）、'minor'（次刻度）、'both'（主次刻度）。which的默认值为'major'，就是仅对主刻度的字体大小、刻度朝向等进行设置。\n",
    "#### 3.axis :参数axis的值为'x'、'y'、'both'，分别代表设置X轴、Y轴以及同时设置，默认值为'both'。"
   ]
  },
  {
   "cell_type": "markdown",
   "metadata": {},
   "source": [
    "### 15.2.4 使用scatter()绘制一系列点"
   ]
  },
  {
   "cell_type": "markdown",
   "metadata": {},
   "source": [
    "#### 要绘制一系列的点，可向scatter()传递两个分别包含x值和y值的列表。"
   ]
  },
  {
   "cell_type": "markdown",
   "metadata": {},
   "source": [
    "#### scatter_squares.py"
   ]
  },
  {
   "cell_type": "code",
   "execution_count": 12,
   "metadata": {},
   "outputs": [
    {
     "data": {
      "image/png": "[encoded data removed]",
      "text/plain": [
       "<Figure size 432x288 with 1 Axes>"
      ]
     },
     "metadata": {
      "needs_background": "light"
     },
     "output_type": "display_data"
    }
   ],
   "source": [
    "import matplotlib.pyplot as plt\n",
    "\n",
    "x_values = [1, 2, 3, 4, 5]\n",
    "y_values = [1, 4, 9, 16, 25]\n",
    "\n",
    "plt.scatter(x_values, y_values, s=100)\n",
    "\n",
    "# 设置图表标题并给坐标轴加上标签\n",
    "plt.title(\"Square Numbers\", fontsize=24)\n",
    "plt.xlabel(\"Value\", fontsize=14)\n",
    "plt.ylabel(\"Square of Value\", fontsize=14)\n",
    "\n",
    "# 设置刻度标记的大小\n",
    "plt.tick_params(axis='both', which='major', labelsize=14)\n",
    "\n",
    "plt.show()"
   ]
  },
  {
   "cell_type": "markdown",
   "metadata": {},
   "source": [
    "#### 列表x_values包含要计算其平方值的数字，而列表y_values包含前述每个数字的平方值。将这些列表传递给scatter()时，matplotlib依次从每个列表中读取一个值来绘制一个点。"
   ]
  },
  {
   "cell_type": "markdown",
   "metadata": {},
   "source": [
    "### 15.2.5 自动计算数据"
   ]
  },
  {
   "cell_type": "markdown",
   "metadata": {},
   "source": [
    "#### scatter_squares.py"
   ]
  },
  {
   "cell_type": "code",
   "execution_count": 13,
   "metadata": {},
   "outputs": [
    {
     "data": {
      "image/png": "[encoded data removed]",
      "text/plain": [
       "<Figure size 432x288 with 1 Axes>"
      ]
     },
     "metadata": {
      "needs_background": "light"
     },
     "output_type": "display_data"
    }
   ],
   "source": [
    "import matplotlib.pyplot as plt\n",
    "\n",
    "x_values = list(range(1, 1001))\n",
    "y_values = [x**2 for x in x_values] # 列表解析\n",
    "\n",
    "plt.scatter(x_values, y_values, s=40)\n",
    "\n",
    "# 设置图表标题并给坐标轴加上标签\n",
    "plt.title(\"Square Numbers\", fontsize=24)\n",
    "plt.xlabel(\"Value\", fontsize=14)\n",
    "plt.ylabel(\"Square of Value\", fontsize=14)\n",
    "\n",
    "# 设置每个坐标轴的取值范围\n",
    "plt.axis([0, 1100, 0, 1100000]) # axis():设置坐标轴范围。\n",
    "\n",
    "plt.show()"
   ]
  },
  {
   "cell_type": "markdown",
   "metadata": {},
   "source": [
    "#### 使用函数axis()可指定每个坐标轴的取值范围。函数axis()要求提供四个值：x和y坐标轴的最小值和最大值。"
   ]
  },
  {
   "cell_type": "markdown",
   "metadata": {},
   "source": [
    "### 15.2.6 删除数据点的轮廓"
   ]
  },
  {
   "cell_type": "markdown",
   "metadata": {},
   "source": [
    "#### matplotlib允许你给散点图中的各个点指定颜色。默认为蓝色点和黑色轮廓，在散点图包含的数据点不多时效果很好。但绘制很多点时，黑色轮廓可能会粘连在一起。要删除数据点的轮廓，可在调用scatter()时传递实参edgecolor='none':"
   ]
  },
  {
   "cell_type": "markdown",
   "metadata": {},
   "source": [
    "#### scatter_squares.py"
   ]
  },
  {
   "cell_type": "code",
   "execution_count": 16,
   "metadata": {},
   "outputs": [
    {
     "data": {
      "image/png": "[encoded data removed]",
      "text/plain": [
       "<Figure size 432x288 with 1 Axes>"
      ]
     },
     "metadata": {
      "needs_background": "light"
     },
     "output_type": "display_data"
    }
   ],
   "source": [
    "import matplotlib.pyplot as plt\n",
    "\n",
    "x_values = list(range(1, 1001))\n",
    "y_values = [x**2 for x in x_values] # 列表解析\n",
    "\n",
    "plt.scatter(x_values, y_values, edgecolor='none', s=40)\n",
    "\n",
    "# 设置图表标题并给坐标轴加上标签\n",
    "plt.title(\"Square Numbers\", fontsize=24)\n",
    "plt.xlabel(\"Value\", fontsize=14)\n",
    "plt.ylabel(\"Square of Value\", fontsize=14)\n",
    "\n",
    "# 设置每个坐标轴的取值范围\n",
    "plt.axis([0, 1100, 0, 1100000]) # axis(）：设置坐标轴的取值范围\n",
    "\n",
    "plt.show()"
   ]
  },
  {
   "cell_type": "markdown",
   "metadata": {},
   "source": [
    "#### 注：在2.0.0版本的matplotlib中，scatter()函数的实参edgecolor默认为‘none’。"
   ]
  },
  {
   "cell_type": "markdown",
   "metadata": {},
   "source": [
    "### 15.2.7 自定义颜色"
   ]
  },
  {
   "cell_type": "markdown",
   "metadata": {},
   "source": [
    "#### 要修改数据点的颜色，可向scatter()函数传递参数c，并将其设置为要使用的颜色的名称。"
   ]
  },
  {
   "cell_type": "markdown",
   "metadata": {},
   "source": [
    "#### scatter_squares.py"
   ]
  },
  {
   "cell_type": "code",
   "execution_count": 17,
   "metadata": {},
   "outputs": [
    {
     "data": {
      "image/png": "[encoded data removed]",
      "text/plain": [
       "<Figure size 432x288 with 1 Axes>"
      ]
     },
     "metadata": {
      "needs_background": "light"
     },
     "output_type": "display_data"
    }
   ],
   "source": [
    "import matplotlib.pyplot as plt\n",
    "\n",
    "x_values = list(range(1, 1001))\n",
    "y_values = [x**2 for x in x_values] # 列表解析\n",
    "\n",
    "plt.scatter(x_values, y_values, c='red', edgecolor='none', s=40)\n",
    "\n",
    "# 设置图表标题并给坐标轴加上标签\n",
    "plt.title(\"Square Numbers\", fontsize=24)\n",
    "plt.xlabel(\"Value\", fontsize=14)\n",
    "plt.ylabel(\"Square of Value\", fontsize=14)\n",
    "\n",
    "# 设置每个坐标轴的取值范围\n",
    "plt.axis([0, 1100, 0, 1100000])\n",
    "\n",
    "plt.show()"
   ]
  },
  {
   "cell_type": "markdown",
   "metadata": {},
   "source": [
    "#### 还可以使用RGB颜色模式自定义颜色。要指定自定义颜色，可传递参数c，并将其设置为一个元组，其中包含三个0~1之间的小数值，它们分别表示红色、绿色和蓝色分量。"
   ]
  },
  {
   "cell_type": "markdown",
   "metadata": {},
   "source": [
    "#### scatter_squares.py"
   ]
  },
  {
   "cell_type": "code",
   "execution_count": 26,
   "metadata": {},
   "outputs": [
    {
     "name": "stderr",
     "output_type": "stream",
     "text": [
      "*c* argument looks like a single numeric RGB or RGBA sequence, which should be avoided as value-mapping will have precedence in case its length matches with *x* & *y*.  Please use the *color* keyword-argument or provide a 2-D array with a single row if you intend to specify the same RGB or RGBA value for all points.\n"
     ]
    },
    {
     "data": {
      "image/png": "[encoded data removed]",
      "text/plain": [
       "<Figure size 432x288 with 1 Axes>"
      ]
     },
     "metadata": {
      "needs_background": "light"
     },
     "output_type": "display_data"
    }
   ],
   "source": [
    "import matplotlib.pyplot as plt\n",
    "\n",
    "x_values = list(range(1, 1001))\n",
    "y_values = [x**2 for x in x_values] # 列表解析\n",
    "\n",
    "plt.scatter(x_values, y_values, c=(0, 0, 0.8), edgecolor='none', s=40)\n",
    "\n",
    "# 设置图表标题并给坐标轴加上标签\n",
    "plt.title(\"Square Numbers\", fontsize=24)\n",
    "plt.xlabel(\"Value\", fontsize=14)\n",
    "plt.ylabel(\"Square of Value\", fontsize=14)\n",
    "\n",
    "# 设置每个坐标轴的取值范围\n",
    "plt.axis([0, 1100, 0, 1100000])\n",
    "\n",
    "plt.show()"
   ]
  },
  {
   "cell_type": "markdown",
   "metadata": {},
   "source": [
    "#### 值越接近0，指定的颜色越深，值越接近1，指定的颜色越浅。"
   ]
  },
  {
   "cell_type": "markdown",
   "metadata": {},
   "source": [
    "### 15.2.8 使用颜色映射"
   ]
  },
  {
   "cell_type": "markdown",
   "metadata": {},
   "source": [
    "#### 1.颜色映射(colormap)是一系列颜色，它们从起始颜色渐变到结束颜色。在可视化中，颜色映射用于突出数据的规律，例如，你可能用较浅的颜色来显示较小的值，并使用较深的颜色来显示较大的值。\n",
    "#### 2.模块pyplot内置了一组颜色映射。要使用这些颜色映射，需要告诉pyplot该如何设置数据集中每个点的颜色。"
   ]
  },
  {
   "cell_type": "markdown",
   "metadata": {},
   "source": [
    "#### scatter_squares.py"
   ]
  },
  {
   "cell_type": "code",
   "execution_count": 30,
   "metadata": {},
   "outputs": [
    {
     "data": {
      "image/png": "[encoded data removed]",
      "text/plain": [
       "<Figure size 432x288 with 1 Axes>"
      ]
     },
     "metadata": {
      "needs_background": "light"
     },
     "output_type": "display_data"
    }
   ],
   "source": [
    "import matplotlib.pyplot as plt\n",
    "\n",
    "x_values = list(range(1, 1001))\n",
    "y_values = [x**2 for x in x_values] # 列表解析\n",
    "\n",
    "plt.scatter(x_values, y_values, c=y_values, cmap=plt.cm.Blues, edgecolor='none', s=40)\n",
    "\n",
    "# 设置图表标题并给坐标轴加上标签\n",
    "plt.title(\"Square Numbers\", fontsize=24)\n",
    "plt.xlabel(\"Value\", fontsize=14)\n",
    "plt.ylabel(\"Square of Value\", fontsize=14)\n",
    "\n",
    "# 设置每个坐标轴的取值范围\n",
    "plt.axis([0, 1100, 0, 1100000])\n",
    "\n",
    "plt.show()"
   ]
  },
  {
   "cell_type": "markdown",
   "metadata": {},
   "source": [
    "#### 我们将参数c设置成了一个y值列表，并使用参数cmap告诉pyplot使用哪个颜色映射。这些代码将y值较小的点显示为浅蓝色，并将y值较大的点显示为深蓝色。"
   ]
  },
  {
   "cell_type": "markdown",
   "metadata": {},
   "source": [
    "### 注意：\n",
    "#### 要了解pyplot中所有的颜色映射，请访问 http://matplotlib.org/ ，单击Examples，向下滚动到Color Examples，再单击colormaps_reference。"
   ]
  },
  {
   "cell_type": "markdown",
   "metadata": {},
   "source": [
    "### 15.2.9 自动保存图表"
   ]
  },
  {
   "cell_type": "markdown",
   "metadata": {},
   "source": [
    "#### 要让程序自动将图表保存到文件中，可将对plt.show()的调用替换为plt.savefig()的调用："
   ]
  },
  {
   "cell_type": "markdown",
   "metadata": {},
   "source": [
    "#### scatter_squares.py"
   ]
  },
  {
   "cell_type": "code",
   "execution_count": 1,
   "metadata": {},
   "outputs": [
    {
     "data": {
      "image/png": "[encoded data removed]",
      "text/plain": [
       "<Figure size 432x288 with 1 Axes>"
      ]
     },
     "metadata": {
      "needs_background": "light"
     },
     "output_type": "display_data"
    }
   ],
   "source": [
    "import matplotlib.pyplot as plt\n",
    "\n",
    "x_values = list(range(1, 1001))\n",
    "y_values = [x**2 for x in x_values] # 列表解析\n",
    "\n",
    "plt.scatter(x_values, y_values, c=y_values, cmap=plt.cm.Blues, edgecolor='none', s=40)\n",
    "\n",
    "# 设置图表标题并给坐标轴加上标签\n",
    "plt.title(\"Square Numbers\", fontsize=24)\n",
    "plt.xlabel(\"Value\", fontsize=14)\n",
    "plt.ylabel(\"Square of Value\", fontsize=14)\n",
    "\n",
    "# 设置每个坐标轴的取值范围\n",
    "plt.axis([0, 1100, 0, 1100000])\n",
    "\n",
    "plt.savefig('squares_plot.png', bbox_inches='tight')"
   ]
  },
  {
   "cell_type": "markdown",
   "metadata": {},
   "source": [
    "#### 第一个实参指定要以什么样的文件名保存图表，这个文件将存储到scatter_squares.py所在的目录中；第二个实参指定将图表多余的空白区域裁剪掉。如果要保留图表周围多余的空白区域，可省略这个实参。"
   ]
  },
  {
   "cell_type": "markdown",
   "metadata": {},
   "source": [
    "## 15.3 随机漫步"
   ]
  },
  {
   "cell_type": "markdown",
   "metadata": {},
   "source": [
    "#### 随机漫步是这样行走得到的路径：每次行走都完全是随机的，没有明确的方向，结果是由一系列随机决策决定的。可以这样认为，随机漫步就是蚂蚁在晕头转向的情况下，每次都沿随机的方向前行所经过的路径。"
   ]
  },
  {
   "cell_type": "markdown",
   "metadata": {},
   "source": [
    "### 15.3.1 创建RandomWalk()类"
   ]
  },
  {
   "cell_type": "markdown",
   "metadata": {},
   "source": [
    "#### random_walk.py"
   ]
  },
  {
   "cell_type": "code",
   "execution_count": 2,
   "metadata": {},
   "outputs": [],
   "source": [
    "from random import choice\n",
    "\n",
    "class RandomWalk():\n",
    "    \"\"\"一个生成随机漫步数据的类\"\"\"\n",
    "    \n",
    "    def __init__(self, num_points=5000):\n",
    "        self.num_points = num_points\n",
    "        \n",
    "        # 所有随机漫步都始于(0, 0)\n",
    "        self.x_values = [0]\n",
    "        self.y_values = [0]"
   ]
  },
  {
   "cell_type": "markdown",
   "metadata": {},
   "source": [
    "### 15.3.2 选择方向"
   ]
  },
  {
   "cell_type": "markdown",
   "metadata": {},
   "source": [
    "#### 使用fill_walk()来生成漫步包含的点，并决定每次漫步的方向。"
   ]
  },
  {
   "cell_type": "markdown",
   "metadata": {},
   "source": [
    "#### random_walk.py"
   ]
  },
  {
   "cell_type": "code",
   "execution_count": 3,
   "metadata": {},
   "outputs": [],
   "source": [
    "def fill_walk(self):\n",
    "    \"\"\"计算随机漫步包含的所有点\"\"\"\n",
    "    \n",
    "    # 不断漫步，直到列表达到指定的长度\n",
    "    while len(self.x_values) < self.num_points:\n",
    "        \n",
    "        # 决定前进方向以及沿这个方向前进的距离\n",
    "        x_direction = choice([1, -1])\n",
    "        x_distance = choice([0, 1, 2, 3, 4])\n",
    "        x_step = x_direction * x_distance\n",
    "        \n",
    "        y_direction = choice([1, -1])\n",
    "        y_distance = choice([0, 1, 2, 3, 4])\n",
    "        y_step = x_direction * x_distance\n",
    "        \n",
    "        # 拒绝原地踏步\n",
    "        if x_step == 0 and y_step == 0:\n",
    "            continue\n",
    "            \n",
    "        # 计算下一个点的x和y值\n",
    "        next_x = self.x_values[-1] + x_step\n",
    "        next_y = self.y_values[-1] + y_step\n",
    "        \n",
    "        self.x_values.append(next_x)\n",
    "        self.y_values.append(next_y)"
   ]
  },
  {
   "cell_type": "markdown",
   "metadata": {},
   "source": [
    "### 15.3.3 绘制随机漫步图"
   ]
  },
  {
   "cell_type": "markdown",
   "metadata": {},
   "source": [
    "#### rw_visual.py"
   ]
  },
  {
   "cell_type": "code",
   "execution_count": 4,
   "metadata": {
    "collapsed": true
   },
   "outputs": [
    {
     "ename": "ModuleNotFoundError",
     "evalue": "No module named 'random_walk'",
     "output_type": "error",
     "traceback": [
      "\u001b[0;31m---------------------------------------------------------------------------\u001b[0m",
      "\u001b[0;31mModuleNotFoundError\u001b[0m                       Traceback (most recent call last)",
      "\u001b[0;32m<ipython-input-4-273b7f9d34ba>\u001b[0m in \u001b[0;36m<module>\u001b[0;34m\u001b[0m\n\u001b[1;32m      2\u001b[0m \u001b[0;32mimport\u001b[0m \u001b[0mmatplotlib\u001b[0m\u001b[0;34m.\u001b[0m\u001b[0mpyplot\u001b[0m \u001b[0;32mas\u001b[0m \u001b[0mplt\u001b[0m\u001b[0;34m\u001b[0m\u001b[0;34m\u001b[0m\u001b[0m\n\u001b[1;32m      3\u001b[0m \u001b[0;34m\u001b[0m\u001b[0m\n\u001b[0;32m----> 4\u001b[0;31m \u001b[0;32mfrom\u001b[0m \u001b[0mrandom_walk\u001b[0m \u001b[0;32mimport\u001b[0m \u001b[0mRandomWalk\u001b[0m\u001b[0;34m\u001b[0m\u001b[0;34m\u001b[0m\u001b[0m\n\u001b[0m\u001b[1;32m      5\u001b[0m \u001b[0;34m\u001b[0m\u001b[0m\n\u001b[1;32m      6\u001b[0m \u001b[0;31m# 创建一个RandomWalk实例，并将其包含的点都绘制出来\u001b[0m\u001b[0;34m\u001b[0m\u001b[0;34m\u001b[0m\u001b[0;34m\u001b[0m\u001b[0m\n",
      "\u001b[0;31mModuleNotFoundError\u001b[0m: No module named 'random_walk'"
     ]
    }
   ],
   "source": [
    "import matplotlib.pyplot as plt\n",
    "\n",
    "from random_walk import RandomWalk\n",
    "\n",
    "# 创建一个RandomWalk实例，并将其包含的点都绘制出来\n",
    "rw = RandomWalk()\n",
    "rw.fill_walk()\n",
    "plt.scatter(rw.x_values, rw.y_values, s=15)\n",
    "plt.show()"
   ]
  },
  {
   "cell_type": "markdown",
   "metadata": {},
   "source": [
    "### 15.3.4 模拟多次随机漫步"
   ]
  },
  {
   "cell_type": "markdown",
   "metadata": {},
   "source": [
    "#### 要在不多次运行程序的情况下使用前面的代码模拟多次随机漫步，一种办法是将这些代码放在一个while循环中。"
   ]
  },
  {
   "cell_type": "markdown",
   "metadata": {},
   "source": [
    "#### rw_visual.py"
   ]
  },
  {
   "cell_type": "code",
   "execution_count": 1,
   "metadata": {
    "collapsed": true
   },
   "outputs": [
    {
     "ename": "ModuleNotFoundError",
     "evalue": "No module named 'random_walk'",
     "output_type": "error",
     "traceback": [
      "\u001b[0;31m---------------------------------------------------------------------------\u001b[0m",
      "\u001b[0;31mModuleNotFoundError\u001b[0m                       Traceback (most recent call last)",
      "\u001b[0;32m<ipython-input-1-a1f88b397c58>\u001b[0m in \u001b[0;36m<module>\u001b[0;34m\u001b[0m\n\u001b[1;32m      1\u001b[0m \u001b[0;31m# rw_visual.py\u001b[0m\u001b[0;34m\u001b[0m\u001b[0;34m\u001b[0m\u001b[0;34m\u001b[0m\u001b[0m\n\u001b[1;32m      2\u001b[0m \u001b[0;32mimport\u001b[0m \u001b[0mmatplotlib\u001b[0m\u001b[0;34m.\u001b[0m\u001b[0mpyplot\u001b[0m \u001b[0;32mas\u001b[0m \u001b[0mplt\u001b[0m\u001b[0;34m\u001b[0m\u001b[0;34m\u001b[0m\u001b[0m\n\u001b[0;32m----> 3\u001b[0;31m \u001b[0;32mfrom\u001b[0m \u001b[0mrandom_walk\u001b[0m \u001b[0;32mimport\u001b[0m \u001b[0mRandomWalk\u001b[0m\u001b[0;34m\u001b[0m\u001b[0;34m\u001b[0m\u001b[0m\n\u001b[0m\u001b[1;32m      4\u001b[0m \u001b[0;34m\u001b[0m\u001b[0m\n\u001b[1;32m      5\u001b[0m \u001b[0;31m# 只要程序处于活动状态，就不断地模拟随机漫步、\u001b[0m\u001b[0;34m\u001b[0m\u001b[0;34m\u001b[0m\u001b[0;34m\u001b[0m\u001b[0m\n",
      "\u001b[0;31mModuleNotFoundError\u001b[0m: No module named 'random_walk'"
     ]
    }
   ],
   "source": [
    "import matplotlib.pyplot as plt\n",
    "from random_walk import RandomWalk\n",
    "\n",
    "# 只要程序处于活动状态，就不断地模拟随机漫步、\n",
    "while True:\n",
    "    # 创建一个RandomWalk实例，并将其包含的点都绘制出来\n",
    "    rw = RandomWalk()\n",
    "    rw.fill_walk()\n",
    "    plt.scatter(rw.x_values, rw.y_values, s=15)\n",
    "    plt.show()\n",
    "    \n",
    "    keep_running = input(\"Make another walk?(y/n): \")\n",
    "    if keep_running == 'n':\n",
    "        break"
   ]
  },
  {
   "cell_type": "markdown",
   "metadata": {},
   "source": [
    "### 注意：\n",
    "#### 如果你使用的是Python2.7，别忘了将input()替换为raw_input()"
   ]
  },
  {
   "cell_type": "markdown",
   "metadata": {},
   "source": [
    "### 15.3.5 设置随机漫步图的样式"
   ]
  },
  {
   "cell_type": "markdown",
   "metadata": {},
   "source": [
    "#### 确定要突出的元素，如漫步的起点、终点和经过的路径。接下来确定要使其不那么显眼的元素，如刻度标记和标签。最终的结果是简单的可视化表示，清楚地指出了每次漫步经过的路径。"
   ]
  },
  {
   "cell_type": "markdown",
   "metadata": {},
   "source": [
    "### 15.3.6 给点着色"
   ]
  },
  {
   "cell_type": "markdown",
   "metadata": {},
   "source": [
    "#### 将使用颜色映射来指出漫步中各点的先后顺序，并删除每个点的先后顺序，让他们的颜色更明显。为根据漫步中各点的先后顺序进行着色，传递参数c，并将其设置为一个列表，其中包含各点的先后顺序。由于这些点是按顺序绘制的，因此给参数c指定的列表只需包含数字1~5000。"
   ]
  },
  {
   "cell_type": "markdown",
   "metadata": {},
   "source": [
    "#### rw_visual.py"
   ]
  },
  {
   "cell_type": "code",
   "execution_count": 4,
   "metadata": {
    "collapsed": true
   },
   "outputs": [
    {
     "ename": "ModuleNotFoundError",
     "evalue": "No module named 'random_walk'",
     "output_type": "error",
     "traceback": [
      "\u001b[0;31m---------------------------------------------------------------------------\u001b[0m",
      "\u001b[0;31mModuleNotFoundError\u001b[0m                       Traceback (most recent call last)",
      "\u001b[0;32m<ipython-input-4-92f18ff6128a>\u001b[0m in \u001b[0;36m<module>\u001b[0;34m\u001b[0m\n\u001b[1;32m      1\u001b[0m \u001b[0;31m# rw_visual.py\u001b[0m\u001b[0;34m\u001b[0m\u001b[0;34m\u001b[0m\u001b[0;34m\u001b[0m\u001b[0m\n\u001b[1;32m      2\u001b[0m \u001b[0;32mimport\u001b[0m \u001b[0mmatplotlib\u001b[0m\u001b[0;34m.\u001b[0m\u001b[0mpyplot\u001b[0m \u001b[0;32mas\u001b[0m \u001b[0mplt\u001b[0m\u001b[0;34m\u001b[0m\u001b[0;34m\u001b[0m\u001b[0m\n\u001b[0;32m----> 3\u001b[0;31m \u001b[0;32mfrom\u001b[0m \u001b[0mrandom_walk\u001b[0m \u001b[0;32mimport\u001b[0m \u001b[0mRandomWalk\u001b[0m\u001b[0;34m\u001b[0m\u001b[0;34m\u001b[0m\u001b[0m\n\u001b[0m\u001b[1;32m      4\u001b[0m \u001b[0;34m\u001b[0m\u001b[0m\n\u001b[1;32m      5\u001b[0m \u001b[0;31m# 只要程序处于活动状态，就不断地模拟随机漫步、\u001b[0m\u001b[0;34m\u001b[0m\u001b[0;34m\u001b[0m\u001b[0;34m\u001b[0m\u001b[0m\n",
      "\u001b[0;31mModuleNotFoundError\u001b[0m: No module named 'random_walk'"
     ]
    }
   ],
   "source": [
    "import matplotlib.pyplot as plt\n",
    "from random_walk import RandomWalk\n",
    "\n",
    "# 只要程序处于活动状态，就不断地模拟随机漫步、\n",
    "while True:\n",
    "    # 创建一个RandomWalk实例，并将其包含的点都绘制出来\n",
    "    rw = RandomWalk()\n",
    "    rw.fill_walk()\n",
    "\n",
    "    point_numbers = list(range(rw.num_points)) # range(）：可创建一个整数列表，一般用在for循环中。\n",
    "    plt.scatter(rw.x_values, rw.y_values, c=point_numbers, cmap=plt.cm.Blues, edgecolor='none', s=15)\n",
    "    plt.show()\n",
    "    # plt.savefig('/home/yyh/Documents/VSCode_work/chapter15/random_walk_1.png', bbox_inches='tight')\n",
    "\n",
    "    keep_running = input(\"Make another walk?(y/n): \")\n",
    "    if keep_running == 'n':\n",
    "        break\n",
    "# 确认一下随机漫步包含的点是否是5000\n",
    "print(len(rw.x_values))\n",
    "print(len(rw.y_values))\n",
    "\n",
    "# 确认一下point_numbers列表\n",
    "print(point_numbers)"
   ]
  },
  {
   "cell_type": "markdown",
   "metadata": {},
   "source": [
    "### 15.3.7 重新绘制起点和终点"
   ]
  },
  {
   "cell_type": "markdown",
   "metadata": {},
   "source": [
    "#### 在绘制随机漫步图后重新绘制起点和终点。让起点和终点变得更大，并显示为不同的颜色。"
   ]
  },
  {
   "cell_type": "markdown",
   "metadata": {},
   "source": [
    "#### rw_visual.py"
   ]
  },
  {
   "cell_type": "code",
   "execution_count": 5,
   "metadata": {
    "collapsed": true
   },
   "outputs": [
    {
     "ename": "ModuleNotFoundError",
     "evalue": "No module named 'random_walk'",
     "output_type": "error",
     "traceback": [
      "\u001b[0;31m---------------------------------------------------------------------------\u001b[0m",
      "\u001b[0;31mModuleNotFoundError\u001b[0m                       Traceback (most recent call last)",
      "\u001b[0;32m<ipython-input-5-e10271f1aba4>\u001b[0m in \u001b[0;36m<module>\u001b[0;34m\u001b[0m\n\u001b[1;32m      1\u001b[0m \u001b[0;31m# rw_visual.py\u001b[0m\u001b[0;34m\u001b[0m\u001b[0;34m\u001b[0m\u001b[0;34m\u001b[0m\u001b[0m\n\u001b[1;32m      2\u001b[0m \u001b[0;32mimport\u001b[0m \u001b[0mmatplotlib\u001b[0m\u001b[0;34m.\u001b[0m\u001b[0mpyplot\u001b[0m \u001b[0;32mas\u001b[0m \u001b[0mplt\u001b[0m\u001b[0;34m\u001b[0m\u001b[0;34m\u001b[0m\u001b[0m\n\u001b[0;32m----> 3\u001b[0;31m \u001b[0;32mfrom\u001b[0m \u001b[0mrandom_walk\u001b[0m \u001b[0;32mimport\u001b[0m \u001b[0mRandomWalk\u001b[0m\u001b[0;34m\u001b[0m\u001b[0;34m\u001b[0m\u001b[0m\n\u001b[0m\u001b[1;32m      4\u001b[0m \u001b[0;34m\u001b[0m\u001b[0m\n\u001b[1;32m      5\u001b[0m \u001b[0;31m# 只要程序处于活动状态，就不断地模拟随机漫步、\u001b[0m\u001b[0;34m\u001b[0m\u001b[0;34m\u001b[0m\u001b[0;34m\u001b[0m\u001b[0m\n",
      "\u001b[0;31mModuleNotFoundError\u001b[0m: No module named 'random_walk'"
     ]
    }
   ],
   "source": [
    "import matplotlib.pyplot as plt\n",
    "from random_walk import RandomWalk\n",
    "\n",
    "# 只要程序处于活动状态，就不断地模拟随机漫步、\n",
    "while True:\n",
    "    # 创建一个RandomWalk实例，并将其包含的点都绘制出来\n",
    "    rw = RandomWalk()\n",
    "    rw.fill_walk()\n",
    "\n",
    "    point_numbers = list(range(rw.num_points))\n",
    "    plt.scatter(rw.x_values, rw.y_values, c=point_numbers, cmap=plt.cm.Blues, edgecolor='none', s=15)\n",
    "    \n",
    "    # 突出起点和终点\n",
    "    plt.scatter(0, 0, c='green', edgecolors='none', s=100)\n",
    "    plt.scatter(rw.x_values[-1], rw.y_values[-1], c='red', edgecolors='none', s=100)\n",
    "    \n",
    "    plt.show()\n",
    "    # plt.savefig('/home/yyh/Documents/VSCode_work/chapter15/random_walk_1.png', bbox_inches='tight')\n",
    "\n",
    "    keep_running = input(\"Make another walk?(y/n): \")\n",
    "    if keep_running == 'n':\n",
    "        break\n",
    "# 确认一下随机漫步包含的点是否是5000\n",
    "print(len(rw.x_values))\n",
    "print(len(rw.y_values))\n",
    "\n",
    "# 确认一下point_numbers列表\n",
    "print(point_numbers)"
   ]
  },
  {
   "cell_type": "markdown",
   "metadata": {},
   "source": [
    "### 15.3.8 隐藏坐标轴"
   ]
  },
  {
   "cell_type": "markdown",
   "metadata": {},
   "source": [
    "#### rw_visual.py"
   ]
  },
  {
   "cell_type": "code",
   "execution_count": 1,
   "metadata": {
    "collapsed": true
   },
   "outputs": [
    {
     "ename": "ModuleNotFoundError",
     "evalue": "No module named 'random_walk'",
     "output_type": "error",
     "traceback": [
      "\u001b[0;31m---------------------------------------------------------------------------\u001b[0m",
      "\u001b[0;31mModuleNotFoundError\u001b[0m                       Traceback (most recent call last)",
      "\u001b[0;32m<ipython-input-1-ad47db3e1781>\u001b[0m in \u001b[0;36m<module>\u001b[0;34m\u001b[0m\n\u001b[1;32m      1\u001b[0m \u001b[0;31m# rw_visual.py\u001b[0m\u001b[0;34m\u001b[0m\u001b[0;34m\u001b[0m\u001b[0;34m\u001b[0m\u001b[0m\n\u001b[1;32m      2\u001b[0m \u001b[0;32mimport\u001b[0m \u001b[0mmatplotlib\u001b[0m\u001b[0;34m.\u001b[0m\u001b[0mpyplot\u001b[0m \u001b[0;32mas\u001b[0m \u001b[0mplt\u001b[0m\u001b[0;34m\u001b[0m\u001b[0;34m\u001b[0m\u001b[0m\n\u001b[0;32m----> 3\u001b[0;31m \u001b[0;32mfrom\u001b[0m \u001b[0mrandom_walk\u001b[0m \u001b[0;32mimport\u001b[0m \u001b[0mRandomWalk\u001b[0m\u001b[0;34m\u001b[0m\u001b[0;34m\u001b[0m\u001b[0m\n\u001b[0m\u001b[1;32m      4\u001b[0m \u001b[0;34m\u001b[0m\u001b[0m\n\u001b[1;32m      5\u001b[0m \u001b[0;31m# 只要程序处于活动状态，就不断地模拟随机漫步、\u001b[0m\u001b[0;34m\u001b[0m\u001b[0;34m\u001b[0m\u001b[0;34m\u001b[0m\u001b[0m\n",
      "\u001b[0;31mModuleNotFoundError\u001b[0m: No module named 'random_walk'"
     ]
    }
   ],
   "source": [
    "import matplotlib.pyplot as plt\n",
    "from random_walk import RandomWalk\n",
    "\n",
    "# 只要程序处于活动状态，就不断地模拟随机漫步、\n",
    "while True:\n",
    "    # 创建一个RandomWalk实例，并将其包含的点都绘制出来\n",
    "    rw = RandomWalk()\n",
    "    rw.fill_walk()\n",
    "\n",
    "    point_numbers = list(range(rw.num_points))\n",
    "    plt.scatter(rw.x_values, rw.y_values, c=point_numbers, cmap=plt.cm.Blues, edgecolor='none', s=15)\n",
    "    \n",
    "    # 突出起点和终点\n",
    "    plt.scatter(0, 0, c='green', edgecolors='none', s=100)\n",
    "    plt.scatter(rw.x_values[-1], rw.y_values[-1], c='red', edgecolors='none', s=100)\n",
    "    \n",
    "    # 隐藏坐标轴\n",
    "    plt.axes().get_xaxis().set_visible(False)\n",
    "    plt.axes().get_yaxis().set_visible(False)\n",
    "\n",
    "    plt.show()\n",
    "    # plt.savefig('/home/yyh/Documents/VSCode_work/chapter15/random_walk_1.png', bbox_inches='tight')\n",
    "\n",
    "    keep_running = input(\"Make another walk?(y/n): \")\n",
    "    if keep_running == 'n':\n",
    "        break\n",
    "# 确认一下随机漫步包含的点是否是5000\n",
    "print(len(rw.x_values))\n",
    "print(len(rw.y_values))\n",
    "\n",
    "# 确认一下point_numbers列表\n",
    "print(point_numbers)"
   ]
  },
  {
   "cell_type": "markdown",
   "metadata": {},
   "source": [
    "#### 为修改坐标轴，使用了函数plt.axes()来将每条坐标轴的可见性都设置为False。"
   ]
  },
  {
   "cell_type": "markdown",
   "metadata": {},
   "source": [
    "### 15.3.9 增加点数"
   ]
  },
  {
   "cell_type": "markdown",
   "metadata": {},
   "source": [
    "#### rw_visual.py"
   ]
  },
  {
   "cell_type": "code",
   "execution_count": 2,
   "metadata": {
    "collapsed": true
   },
   "outputs": [
    {
     "ename": "ModuleNotFoundError",
     "evalue": "No module named 'random_walk'",
     "output_type": "error",
     "traceback": [
      "\u001b[0;31m---------------------------------------------------------------------------\u001b[0m",
      "\u001b[0;31mModuleNotFoundError\u001b[0m                       Traceback (most recent call last)",
      "\u001b[0;32m<ipython-input-2-4c9b15ed3e7f>\u001b[0m in \u001b[0;36m<module>\u001b[0;34m\u001b[0m\n\u001b[1;32m      1\u001b[0m \u001b[0;31m# rw_visual.py\u001b[0m\u001b[0;34m\u001b[0m\u001b[0;34m\u001b[0m\u001b[0;34m\u001b[0m\u001b[0m\n\u001b[1;32m      2\u001b[0m \u001b[0;32mimport\u001b[0m \u001b[0mmatplotlib\u001b[0m\u001b[0;34m.\u001b[0m\u001b[0mpyplot\u001b[0m \u001b[0;32mas\u001b[0m \u001b[0mplt\u001b[0m\u001b[0;34m\u001b[0m\u001b[0;34m\u001b[0m\u001b[0m\n\u001b[0;32m----> 3\u001b[0;31m \u001b[0;32mfrom\u001b[0m \u001b[0mrandom_walk\u001b[0m \u001b[0;32mimport\u001b[0m \u001b[0mRandomWalk\u001b[0m\u001b[0;34m\u001b[0m\u001b[0;34m\u001b[0m\u001b[0m\n\u001b[0m\u001b[1;32m      4\u001b[0m \u001b[0;34m\u001b[0m\u001b[0m\n\u001b[1;32m      5\u001b[0m \u001b[0;31m# 只要程序处于活动状态，就不断地模拟随机漫步、\u001b[0m\u001b[0;34m\u001b[0m\u001b[0;34m\u001b[0m\u001b[0;34m\u001b[0m\u001b[0m\n",
      "\u001b[0;31mModuleNotFoundError\u001b[0m: No module named 'random_walk'"
     ]
    }
   ],
   "source": [
    "import matplotlib.pyplot as plt\n",
    "from random_walk import RandomWalk\n",
    "\n",
    "# 只要程序处于活动状态，就不断地模拟随机漫步、\n",
    "while True:\n",
    "    # 创建一个RandomWalk实例，并将其包含的点都绘制出来\n",
    "    rw = RandomWalk(50000)\n",
    "    rw.fill_walk()\n",
    "\n",
    "    point_numbers = list(range(rw.num_points))\n",
    "    plt.scatter(rw.x_values, rw.y_values, c=point_numbers, cmap=plt.cm.Blues, edgecolor='none', s=1)\n",
    "    \n",
    "    # 突出起点和终点\n",
    "    plt.scatter(0, 0, c='green', edgecolors='none', s=100)\n",
    "    plt.scatter(rw.x_values[-1], rw.y_values[-1], c='red', edgecolors='none', s=100)\n",
    "    \n",
    "    # 隐藏坐标轴\n",
    "    plt.axes().get_xaxis().set_visible(False)\n",
    "    plt.axes().get_yaxis().set_visible(False)\n",
    "\n",
    "    plt.show()\n",
    "    # plt.savefig('/home/yyh/Documents/VSCode_work/chapter15/random_walk_1.png', bbox_inches='tight')\n",
    "\n",
    "    keep_running = input(\"Make another walk?(y/n): \")\n",
    "    if keep_running == 'n':\n",
    "        break\n",
    "# 确认一下随机漫步包含的点是否是5000\n",
    "print(len(rw.x_values))\n",
    "print(len(rw.y_values))\n",
    "\n",
    "# 确认一下point_numbers列表\n",
    "print(point_numbers)"
   ]
  },
  {
   "cell_type": "markdown",
   "metadata": {},
   "source": [
    "### 15.3.10 调整尺寸以适应屏幕"
   ]
  },
  {
   "cell_type": "markdown",
   "metadata": {},
   "source": [
    "#### rw_visual.py"
   ]
  },
  {
   "cell_type": "code",
   "execution_count": 3,
   "metadata": {
    "collapsed": true
   },
   "outputs": [
    {
     "ename": "ModuleNotFoundError",
     "evalue": "No module named 'random_walk'",
     "output_type": "error",
     "traceback": [
      "\u001b[0;31m---------------------------------------------------------------------------\u001b[0m",
      "\u001b[0;31mModuleNotFoundError\u001b[0m                       Traceback (most recent call last)",
      "\u001b[0;32m<ipython-input-3-6b74fbacb1ed>\u001b[0m in \u001b[0;36m<module>\u001b[0;34m\u001b[0m\n\u001b[1;32m      1\u001b[0m \u001b[0;31m# rw_visual.py\u001b[0m\u001b[0;34m\u001b[0m\u001b[0;34m\u001b[0m\u001b[0;34m\u001b[0m\u001b[0m\n\u001b[1;32m      2\u001b[0m \u001b[0;32mimport\u001b[0m \u001b[0mmatplotlib\u001b[0m\u001b[0;34m.\u001b[0m\u001b[0mpyplot\u001b[0m \u001b[0;32mas\u001b[0m \u001b[0mplt\u001b[0m\u001b[0;34m\u001b[0m\u001b[0;34m\u001b[0m\u001b[0m\n\u001b[0;32m----> 3\u001b[0;31m \u001b[0;32mfrom\u001b[0m \u001b[0mrandom_walk\u001b[0m \u001b[0;32mimport\u001b[0m \u001b[0mRandomWalk\u001b[0m\u001b[0;34m\u001b[0m\u001b[0;34m\u001b[0m\u001b[0m\n\u001b[0m\u001b[1;32m      4\u001b[0m \u001b[0;34m\u001b[0m\u001b[0m\n\u001b[1;32m      5\u001b[0m \u001b[0;31m# 只要程序处于活动状态，就不断地模拟随机漫步、\u001b[0m\u001b[0;34m\u001b[0m\u001b[0;34m\u001b[0m\u001b[0;34m\u001b[0m\u001b[0m\n",
      "\u001b[0;31mModuleNotFoundError\u001b[0m: No module named 'random_walk'"
     ]
    }
   ],
   "source": [
    "import matplotlib.pyplot as plt\n",
    "from random_walk import RandomWalk\n",
    "\n",
    "# 只要程序处于活动状态，就不断地模拟随机漫步、\n",
    "while True:\n",
    "    # 创建一个RandomWalk实例，并将其包含的点都绘制出来\n",
    "    rw = RandomWalk(50000)\n",
    "    rw.fill_walk()\n",
    "\n",
    "    # 设置绘图窗口的尺寸\n",
    "    plt.figure(figsize=(10, 6))\n",
    "\n",
    "    point_numbers = list(range(rw.num_points))\n",
    "    plt.scatter(rw.x_values, rw.y_values, c=point_numbers, cmap=plt.cm.Blues, edgecolor='none', s=1)\n",
    "    \n",
    "    # 突出起点和终点\n",
    "    plt.scatter(0, 0, c='green', edgecolors='none', s=100)\n",
    "    plt.scatter(rw.x_values[-1], rw.y_values[-1], c='red', edgecolors='none', s=100)\n",
    "    \n",
    "    # 隐藏坐标轴\n",
    "    plt.axes().get_xaxis().set_visible(False)\n",
    "    plt.axes().get_yaxis().set_visible(False)\n",
    "\n",
    "    plt.show()\n",
    "    # plt.savefig('/home/yyh/Documents/VSCode_work/chapter15/random_walk_1.png', bbox_inches='tight')\n",
    "\n",
    "    keep_running = input(\"Make another walk?(y/n): \")\n",
    "    if keep_running == 'n':\n",
    "        break\n",
    "# 确认一下随机漫步包含的点是否是5000\n",
    "print(len(rw.x_values))\n",
    "print(len(rw.y_values))\n",
    "\n",
    "# 确认一下point_numbers列表\n",
    "print(point_numbers)"
   ]
  },
  {
   "cell_type": "markdown",
   "metadata": {},
   "source": [
    "#### 1.函数figure()用于指定图表的宽度、高度、分辨率和背景色。需要给形参figsize指定一个元组，向matplotlib指出绘图窗口的尺寸，单位为英寸。\n",
    "#### 2.Python假定屏幕分辨率为80像素/英寸。\n",
    "#### 3.如果你知道自己的系统的分辨率，可使用形参dpi向figure()传递该分辨率，已有效地利用可利用的空间。"
   ]
  },
  {
   "cell_type": "markdown",
   "metadata": {},
   "source": [
    "#### plt.figure(dpi=128, figsize=(10, 6))"
   ]
  },
  {
   "cell_type": "markdown",
   "metadata": {},
   "source": [
    "## 15.4 使用Pygal模拟掷骰子"
   ]
  },
  {
   "cell_type": "markdown",
   "metadata": {},
   "source": [
    "### 15.4.1 安装Pygal"
   ]
  },
  {
   "cell_type": "markdown",
   "metadata": {},
   "source": [
    "#### 在Linux和OS X系统中， 应执行的命令类似于下面这样：\n",
    "#### pip install --user pygal==1.7"
   ]
  },
  {
   "cell_type": "markdown",
   "metadata": {},
   "source": [
    "#### 在Windows系统中， 命令类似于下面这样：\n",
    "#### python -m pip install --user pygal==1.7"
   ]
  },
  {
   "cell_type": "markdown",
   "metadata": {},
   "source": [
    "### 注意：\n",
    "#### 你可能需要使用命令pip3而不是pip，如果这还是不管用，你可能需要删除标志--user。"
   ]
  },
  {
   "cell_type": "markdown",
   "metadata": {},
   "source": [
    "### 15.4.2 Pygal画廊"
   ]
  },
  {
   "cell_type": "markdown",
   "metadata": {},
   "source": [
    "#### 要了解使用Pygal可创建什么样的图表，请查看图表类型画廊：访问http://www.pygal.org/ ,单击Documentation，再单击Chart types。"
   ]
  },
  {
   "cell_type": "markdown",
   "metadata": {},
   "source": [
    "### 15.4.3 创建Die类"
   ]
  },
  {
   "cell_type": "markdown",
   "metadata": {},
   "source": [
    "#### die.py"
   ]
  },
  {
   "cell_type": "code",
   "execution_count": 1,
   "metadata": {},
   "outputs": [],
   "source": [
    "from random import randint\n",
    "\n",
    "class Die():\n",
    "    \"\"\"表示一个骰子的类\"\"\"\n",
    "    \n",
    "    def ___init__(self, num_sides=6):\n",
    "        \"\"\"骰子默认为6面\"\"\"\n",
    "        self.num_sides = num_sides\n",
    "        \n",
    "    def roll(self):\n",
    "        \"\"\"返回一个位于1和骰子面数之间的随机值\"\"\"\n",
    "        return randint(1, self.num_sides)"
   ]
  },
  {
   "cell_type": "markdown",
   "metadata": {},
   "source": [
    "### 15.4.4 掷骰子"
   ]
  },
  {
   "cell_type": "markdown",
   "metadata": {},
   "source": [
    "#### die_visual.py"
   ]
  },
  {
   "cell_type": "code",
   "execution_count": 2,
   "metadata": {
    "collapsed": true
   },
   "outputs": [
    {
     "ename": "ModuleNotFoundError",
     "evalue": "No module named 'die'",
     "output_type": "error",
     "traceback": [
      "\u001b[0;31m---------------------------------------------------------------------------\u001b[0m",
      "\u001b[0;31mModuleNotFoundError\u001b[0m                       Traceback (most recent call last)",
      "\u001b[0;32m<ipython-input-2-4f9aa7b45df4>\u001b[0m in \u001b[0;36m<module>\u001b[0;34m\u001b[0m\n\u001b[1;32m      1\u001b[0m \u001b[0;31m# die_visual.py\u001b[0m\u001b[0;34m\u001b[0m\u001b[0;34m\u001b[0m\u001b[0;34m\u001b[0m\u001b[0m\n\u001b[0;32m----> 2\u001b[0;31m \u001b[0;32mfrom\u001b[0m \u001b[0mdie\u001b[0m \u001b[0;32mimport\u001b[0m \u001b[0mDie\u001b[0m\u001b[0;34m\u001b[0m\u001b[0;34m\u001b[0m\u001b[0m\n\u001b[0m\u001b[1;32m      3\u001b[0m \u001b[0;34m\u001b[0m\u001b[0m\n\u001b[1;32m      4\u001b[0m \u001b[0;31m# 创建一个D6实例\u001b[0m\u001b[0;34m\u001b[0m\u001b[0;34m\u001b[0m\u001b[0;34m\u001b[0m\u001b[0m\n\u001b[1;32m      5\u001b[0m \u001b[0mdie\u001b[0m \u001b[0;34m=\u001b[0m \u001b[0mDie\u001b[0m\u001b[0;34m(\u001b[0m\u001b[0;34m)\u001b[0m\u001b[0;34m\u001b[0m\u001b[0;34m\u001b[0m\u001b[0m\n",
      "\u001b[0;31mModuleNotFoundError\u001b[0m: No module named 'die'"
     ]
    }
   ],
   "source": [
    "from die import Die\n",
    "\n",
    "# 创建一个D6实例\n",
    "die = Die()\n",
    "\n",
    "# 掷几次骰子，并将结果存储在一个列表中\n",
    "results = []\n",
    "for roll_num in range(100):\n",
    "    result = die.roll()\n",
    "    results.append(result)\n",
    "    \n",
    "print(results)"
   ]
  },
  {
   "cell_type": "markdown",
   "metadata": {},
   "source": [
    "### 15.4.5 分析结果"
   ]
  },
  {
   "cell_type": "markdown",
   "metadata": {},
   "source": [
    "#### die_visual.py"
   ]
  },
  {
   "cell_type": "code",
   "execution_count": 3,
   "metadata": {
    "collapsed": true
   },
   "outputs": [
    {
     "ename": "ModuleNotFoundError",
     "evalue": "No module named 'die'",
     "output_type": "error",
     "traceback": [
      "\u001b[0;31m---------------------------------------------------------------------------\u001b[0m",
      "\u001b[0;31mModuleNotFoundError\u001b[0m                       Traceback (most recent call last)",
      "\u001b[0;32m<ipython-input-3-3dba1530cd95>\u001b[0m in \u001b[0;36m<module>\u001b[0;34m\u001b[0m\n\u001b[0;32m----> 1\u001b[0;31m \u001b[0;32mfrom\u001b[0m \u001b[0mdie\u001b[0m \u001b[0;32mimport\u001b[0m \u001b[0mDie\u001b[0m\u001b[0;34m\u001b[0m\u001b[0;34m\u001b[0m\u001b[0m\n\u001b[0m\u001b[1;32m      2\u001b[0m \u001b[0;34m\u001b[0m\u001b[0m\n\u001b[1;32m      3\u001b[0m \u001b[0;31m# 创建一个D6实例\u001b[0m\u001b[0;34m\u001b[0m\u001b[0;34m\u001b[0m\u001b[0;34m\u001b[0m\u001b[0m\n\u001b[1;32m      4\u001b[0m \u001b[0mdie\u001b[0m \u001b[0;34m=\u001b[0m \u001b[0mDie\u001b[0m\u001b[0;34m(\u001b[0m\u001b[0;34m)\u001b[0m\u001b[0;34m\u001b[0m\u001b[0;34m\u001b[0m\u001b[0m\n\u001b[1;32m      5\u001b[0m \u001b[0;34m\u001b[0m\u001b[0m\n",
      "\u001b[0;31mModuleNotFoundError\u001b[0m: No module named 'die'"
     ]
    }
   ],
   "source": [
    "from die import Die\n",
    "\n",
    "# 创建一个D6实例\n",
    "die = Die()\n",
    "\n",
    "# 掷几次骰子，并将结果存储在一个列表中\n",
    "results = []\n",
    "for roll_num in range(1000):\n",
    "    result = die.roll()\n",
    "    results.append(result)\n",
    "\n",
    "print(results)\n",
    "\n",
    "# 分析结果\n",
    "frequencies = []\n",
    "for value in range(1, die.num_sides+1):\n",
    "    frequency = results.count(value)\n",
    "    frequencies.append(frequency)\n",
    "    \n",
    "print(frequencies)"
   ]
  },
  {
   "cell_type": "markdown",
   "metadata": {},
   "source": [
    "### 15.4.6 绘制直方图"
   ]
  },
  {
   "cell_type": "markdown",
   "metadata": {},
   "source": [
    "#### 直方图是一种条形图，指出了各种结果出现的频率。"
   ]
  },
  {
   "cell_type": "markdown",
   "metadata": {},
   "source": [
    "#### die_visual.py"
   ]
  },
  {
   "cell_type": "code",
   "execution_count": 4,
   "metadata": {
    "collapsed": true
   },
   "outputs": [
    {
     "ename": "ModuleNotFoundError",
     "evalue": "No module named 'die'",
     "output_type": "error",
     "traceback": [
      "\u001b[0;31m---------------------------------------------------------------------------\u001b[0m",
      "\u001b[0;31mModuleNotFoundError\u001b[0m                       Traceback (most recent call last)",
      "\u001b[0;32m<ipython-input-4-d5f8e8bec545>\u001b[0m in \u001b[0;36m<module>\u001b[0;34m\u001b[0m\n\u001b[1;32m      1\u001b[0m \u001b[0;31m# 导入必要的模块和类\u001b[0m\u001b[0;34m\u001b[0m\u001b[0;34m\u001b[0m\u001b[0;34m\u001b[0m\u001b[0m\n\u001b[0;32m----> 2\u001b[0;31m \u001b[0;32mfrom\u001b[0m \u001b[0mdie\u001b[0m \u001b[0;32mimport\u001b[0m \u001b[0mDie\u001b[0m\u001b[0;34m\u001b[0m\u001b[0;34m\u001b[0m\u001b[0m\n\u001b[0m\u001b[1;32m      3\u001b[0m \u001b[0;32mimport\u001b[0m \u001b[0mpygal\u001b[0m\u001b[0;34m\u001b[0m\u001b[0;34m\u001b[0m\u001b[0m\n\u001b[1;32m      4\u001b[0m \u001b[0;34m\u001b[0m\u001b[0m\n\u001b[1;32m      5\u001b[0m \u001b[0;31m# 创建一个D6实例\u001b[0m\u001b[0;34m\u001b[0m\u001b[0;34m\u001b[0m\u001b[0;34m\u001b[0m\u001b[0m\n",
      "\u001b[0;31mModuleNotFoundError\u001b[0m: No module named 'die'"
     ]
    }
   ],
   "source": [
    "# 导入必要的模块和类\n",
    "from die import Die\n",
    "import pygal\n",
    "\n",
    "# 创建一个D6实例\n",
    "die = Die()\n",
    "\n",
    "# 掷几次骰子，并将结果存储在一个列表中\n",
    "results = []\n",
    "for roll_num in range(1000):\n",
    "    result = die.roll()\n",
    "    results.append(result)\n",
    "\n",
    "# 分析结果\n",
    "frequencies = []\n",
    "for value in range(1, die.num_sides+1):\n",
    "    frequency = results.count(value) # count():统计字符串里某个字符出现的次数。\n",
    "    frequencies.append(frequency)\n",
    "\n",
    "# 对结果进行可视化\n",
    "hist = pygal.Bar()\n",
    "\n",
    "hist.title = \"Results of rolling one D6 1000 times.\"\n",
    "hist.x_labels = ['1','2', '3', '4', '5', '6']\n",
    "hist.x_title = \"Result\"\n",
    "hist.y_title = \"Frequency of Result\"\n",
    "\n",
    "hist.add('D6', frequencies)\n",
    "hist.render_to_file('die_visual.svg')"
   ]
  },
  {
   "cell_type": "markdown",
   "metadata": {},
   "source": [
    "### 15.4.7  同时掷两个骰子"
   ]
  },
  {
   "cell_type": "markdown",
   "metadata": {},
   "source": [
    "#### 每次掷两个骰子时，我们都将两个骰子的点数相加，并将结果存储在results中。"
   ]
  },
  {
   "cell_type": "markdown",
   "metadata": {},
   "source": [
    "#### dice_visual.py"
   ]
  },
  {
   "cell_type": "code",
   "execution_count": 5,
   "metadata": {
    "collapsed": true
   },
   "outputs": [
    {
     "ename": "ModuleNotFoundError",
     "evalue": "No module named 'die'",
     "output_type": "error",
     "traceback": [
      "\u001b[0;31m---------------------------------------------------------------------------\u001b[0m",
      "\u001b[0;31mModuleNotFoundError\u001b[0m                       Traceback (most recent call last)",
      "\u001b[0;32m<ipython-input-5-540a43f7d241>\u001b[0m in \u001b[0;36m<module>\u001b[0;34m\u001b[0m\n\u001b[1;32m      1\u001b[0m \u001b[0;31m# dice_visual.py\u001b[0m\u001b[0;34m\u001b[0m\u001b[0;34m\u001b[0m\u001b[0;34m\u001b[0m\u001b[0m\n\u001b[1;32m      2\u001b[0m \u001b[0;31m# 导入必要的模块和类\u001b[0m\u001b[0;34m\u001b[0m\u001b[0;34m\u001b[0m\u001b[0;34m\u001b[0m\u001b[0m\n\u001b[0;32m----> 3\u001b[0;31m \u001b[0;32mfrom\u001b[0m \u001b[0mdie\u001b[0m \u001b[0;32mimport\u001b[0m \u001b[0mDie\u001b[0m\u001b[0;34m\u001b[0m\u001b[0;34m\u001b[0m\u001b[0m\n\u001b[0m\u001b[1;32m      4\u001b[0m \u001b[0;32mimport\u001b[0m \u001b[0mpygal\u001b[0m\u001b[0;34m\u001b[0m\u001b[0;34m\u001b[0m\u001b[0m\n\u001b[1;32m      5\u001b[0m \u001b[0;34m\u001b[0m\u001b[0m\n",
      "\u001b[0;31mModuleNotFoundError\u001b[0m: No module named 'die'"
     ]
    }
   ],
   "source": [
    "# 导入必要的模块和类\n",
    "from die import Die\n",
    "import pygal\n",
    "\n",
    "# 创建两个D6实例\n",
    "die_1 = Die()\n",
    "die_2 = Die()\n",
    "\n",
    "# 掷骰子多次，并将结果存储在一个列表中\n",
    "results = []\n",
    "for roll_num in range(1000):\n",
    "    result = die_1.roll() + die_2.roll()\n",
    "    results.append(result)\n",
    "\n",
    "# 分析结果\n",
    "frequencies = []\n",
    "max_result = die_1.num_sides + die_2.num_sides\n",
    "for value in range(2, max_result+1):\n",
    "    frequency = results.count(value)\n",
    "    frequencies.append(frequency)\n",
    "\n",
    "# 对结果进行可视化\n",
    "hist = pygal.Bar()\n",
    "\n",
    "hist.title = \"Results of rolling two D6 dice 1000 times.\"\n",
    "hist.x_labels = ['2', '3', '4', '5', '6', '7', '8', '9', '10', '11', '12']\n",
    "hist.x_title = \"Result\"\n",
    "hist.y_title = \"Frequency of Result\"\n",
    "\n",
    "hist.add('D6 + D6', frequencies)\n",
    "hist.render_to_file('/home/yyh/Documents/VSCode_work/chapter15/dice_visual.svg')"
   ]
  },
  {
   "cell_type": "markdown",
   "metadata": {},
   "source": [
    "#### 模拟现实世界的情形时，最好编写可轻松地模拟各种情形的代码。for value in range(2, max_result+1)这行代码让我们能够模拟掷任何两个骰子的情形，而不管这些骰子有多少面。"
   ]
  },
  {
   "cell_type": "markdown",
   "metadata": {},
   "source": [
    "### 15.4.8 同时掷两个面数不同的骰子"
   ]
  },
  {
   "cell_type": "markdown",
   "metadata": {},
   "source": [
    "#### different_dice.py"
   ]
  },
  {
   "cell_type": "code",
   "execution_count": 6,
   "metadata": {
    "collapsed": true
   },
   "outputs": [
    {
     "ename": "ModuleNotFoundError",
     "evalue": "No module named 'die'",
     "output_type": "error",
     "traceback": [
      "\u001b[0;31m---------------------------------------------------------------------------\u001b[0m",
      "\u001b[0;31mModuleNotFoundError\u001b[0m                       Traceback (most recent call last)",
      "\u001b[0;32m<ipython-input-6-aff26a462c49>\u001b[0m in \u001b[0;36m<module>\u001b[0;34m\u001b[0m\n\u001b[1;32m      1\u001b[0m \u001b[0;31m# different_dice.py\u001b[0m\u001b[0;34m\u001b[0m\u001b[0;34m\u001b[0m\u001b[0;34m\u001b[0m\u001b[0m\n\u001b[1;32m      2\u001b[0m \u001b[0;31m# 导入必要的模块和类\u001b[0m\u001b[0;34m\u001b[0m\u001b[0;34m\u001b[0m\u001b[0;34m\u001b[0m\u001b[0m\n\u001b[0;32m----> 3\u001b[0;31m \u001b[0;32mfrom\u001b[0m \u001b[0mdie\u001b[0m \u001b[0;32mimport\u001b[0m \u001b[0mDie\u001b[0m\u001b[0;34m\u001b[0m\u001b[0;34m\u001b[0m\u001b[0m\n\u001b[0m\u001b[1;32m      4\u001b[0m \u001b[0;32mimport\u001b[0m \u001b[0mpygal\u001b[0m\u001b[0;34m\u001b[0m\u001b[0;34m\u001b[0m\u001b[0m\n\u001b[1;32m      5\u001b[0m \u001b[0;34m\u001b[0m\u001b[0m\n",
      "\u001b[0;31mModuleNotFoundError\u001b[0m: No module named 'die'"
     ]
    }
   ],
   "source": [
    "# 导入必要的模块和类\n",
    "from die import Die\n",
    "import pygal\n",
    "\n",
    "# 创建一个D6实例和一个D10实例\n",
    "die_1 = Die()\n",
    "die_2 = Die(10)\n",
    "\n",
    "# 掷骰子多次，并将结果存储在一个列表中\n",
    "results = []\n",
    "for roll_num in range(50000):\n",
    "    result = die_1.roll() + die_2.roll()\n",
    "    results.append(result)\n",
    "\n",
    "# 分析结果\n",
    "frequencies = []\n",
    "max_result = die_1.num_sides + die_2.num_sides\n",
    "for value in range(2, max_result+1):\n",
    "    frequency = results.count(value)\n",
    "    frequencies.append(frequency)\n",
    "\n",
    "# 对结果进行可视化\n",
    "hist = pygal.Bar()\n",
    "\n",
    "hist.title = \"Results of rolling a D6 and a D10 50,000 times.\"\n",
    "hist.x_labels = ['2', '3', '4', '5', '6', '7', '8', '9', '10', '11', '12', '13', '14', '15', '16']\n",
    "hist.x_title = \"Result\"\n",
    "hist.y_title = \"Frequency of Result\"\n",
    "\n",
    "hist.add('D6 + D10', frequencies)\n",
    "hist.render_to_file('/home/yyh/Documents/VSCode_work/chapter15/different_dice_visual.svg')"
   ]
  },
  {
   "cell_type": "markdown",
   "metadata": {},
   "source": [
    "## 15.5 小结"
   ]
  },
  {
   "cell_type": "markdown",
   "metadata": {},
   "source": [
    "### 在本章中，学习了：\n",
    "#### 1.如何生成数据集以及如何对其进行可视化；\n",
    "#### 2.如何使用matplotlib创建简单的图表，以及如何使用散点图来探索随机漫步过程；\n",
    "#### 3.如何使用Pygal来创建直方图，以及如何使用直方图来探索同时掷两个面数不同的骰子的过程。"
   ]
  },
  {
   "cell_type": "code",
   "execution_count": null,
   "metadata": {},
   "outputs": [],
   "source": []
  }
 ],
 "metadata": {
  "kernelspec": {
   "display_name": "Python 3",
   "language": "python",
   "name": "python3"
  },
  "language_info": {
   "codemirror_mode": {
    "name": "ipython",
    "version": 3
   },
   "file_extension": ".py",
   "mimetype": "text/x-python",
   "name": "python",
   "nbconvert_exporter": "python",
   "pygments_lexer": "ipython3",
   "version": "3.8.3"
  },
  "toc": {
   "base_numbering": 1,
   "nav_menu": {},
   "number_sections": false,
   "sideBar": true,
   "skip_h1_title": false,
   "title_cell": "Table of Contents",
   "title_sidebar": "Contents",
   "toc_cell": false,
   "toc_position": {
    "height": "calc(100% - 180px)",
    "left": "10px",
    "top": "150px",
    "width": "370.6px"
   },
   "toc_section_display": true,
   "toc_window_display": false
  }
 },
 "nbformat": 4,
 "nbformat_minor": 4
}
